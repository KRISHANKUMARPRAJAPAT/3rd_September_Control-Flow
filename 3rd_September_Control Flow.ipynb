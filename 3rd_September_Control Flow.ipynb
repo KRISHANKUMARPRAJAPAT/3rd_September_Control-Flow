{
 "cells": [
  {
   "cell_type": "markdown",
   "id": "6150d58e-8978-4b47-b099-c6cffe13f78f",
   "metadata": {},
   "source": [
    "# **Basic If-Else Statements:**"
   ]
  },
  {
   "cell_type": "markdown",
   "id": "5005e773-ce71-46c2-9cc0-43d06d84142f",
   "metadata": {},
   "source": [
    "# 1. Write a Python program to check if a given number is positive or negative."
   ]
  },
  {
   "cell_type": "code",
   "execution_count": 1,
   "id": "cb6d0ffc-f497-4df5-bd46-82e293a9a9f0",
   "metadata": {},
   "outputs": [
    {
     "name": "stdin",
     "output_type": "stream",
     "text": [
      "Enter a Number:  50\n"
     ]
    },
    {
     "name": "stdout",
     "output_type": "stream",
     "text": [
      "The Number is Positve\n"
     ]
    }
   ],
   "source": [
    "# Ans: 1 \n",
    "\n",
    "# get a number from the user\n",
    "number = int(input('Enter a Number: '))\n",
    "\n",
    "# check if the number +ve, -ve or zero \n",
    "if number > 0:\n",
    "    print('The Number is Positve')\n",
    "    \n",
    "elif number < 0:\n",
    "    print('The Number is Negative')\n",
    "    \n",
    "else:\n",
    "    print('The Number is Zero')"
   ]
  },
  {
   "cell_type": "code",
   "execution_count": null,
   "id": "6b2fcb78-12fc-4fbe-9562-a1f3357a5d32",
   "metadata": {},
   "outputs": [],
   "source": []
  },
  {
   "cell_type": "markdown",
   "id": "30615ffa-45f6-442d-98f9-5919d880243c",
   "metadata": {},
   "source": [
    "# 2. Create a program that determines if a person is eligible to vote based on their age."
   ]
  },
  {
   "cell_type": "code",
   "execution_count": 2,
   "id": "5703e329-b5f5-4535-96c2-cedc565c5a6e",
   "metadata": {},
   "outputs": [
    {
     "name": "stdin",
     "output_type": "stream",
     "text": [
      "Enter your Age 22\n"
     ]
    },
    {
     "name": "stdout",
     "output_type": "stream",
     "text": [
      "You are eligible to Vote\n"
     ]
    }
   ],
   "source": [
    "# Ans: 2 \n",
    "\n",
    "# get the person's age \n",
    "age = int(input('Enter your Age'))\n",
    "\n",
    "# check aligibility to vote \n",
    "if age >= 18:\n",
    "    print('You are eligible to Vote')\n",
    "else:\n",
    "    print('You are not eligible for the Vote')"
   ]
  },
  {
   "cell_type": "code",
   "execution_count": null,
   "id": "d5bde09d-84b5-47ee-a768-f7e81664e2ab",
   "metadata": {},
   "outputs": [],
   "source": []
  },
  {
   "cell_type": "markdown",
   "id": "2f6d34ad-d813-4c17-8510-f6cd4831d8cb",
   "metadata": {},
   "source": [
    "# 3. Develop a program to find the maximum of two numbers using if-else statements."
   ]
  },
  {
   "cell_type": "code",
   "execution_count": 3,
   "id": "2516b551-3029-4973-b31b-2ab49810dda5",
   "metadata": {},
   "outputs": [
    {
     "name": "stdin",
     "output_type": "stream",
     "text": [
      "Enter the first Number:  45\n",
      "Enter the second Number:  54\n"
     ]
    },
    {
     "name": "stdout",
     "output_type": "stream",
     "text": [
      "The Maximum number is: 54.0\n"
     ]
    }
   ],
   "source": [
    "# Ans: 3 \n",
    "\n",
    "#get two number from the user\n",
    "num1 = float(input('Enter the first Number: '))\n",
    "num2 = float(input('Enter the second Number: '))\n",
    "\n",
    "# find and print the maximum Number:\n",
    "if num1 > num2:\n",
    "    print('The Maximum number is:', num1)\n",
    "    \n",
    "else:\n",
    "    print('The Maximum number is:', num2)"
   ]
  },
  {
   "cell_type": "code",
   "execution_count": null,
   "id": "8919bcc1-30df-44a8-bc1f-d4ccd06d00df",
   "metadata": {},
   "outputs": [],
   "source": []
  },
  {
   "cell_type": "markdown",
   "id": "de0558ab-c642-48e0-8ffa-2b4183610d69",
   "metadata": {},
   "source": [
    "# 4. Write a Python script to classify a given year as a leap year or not."
   ]
  },
  {
   "cell_type": "code",
   "execution_count": 4,
   "id": "a63f1375-7e4b-4689-9118-30874ac0209e",
   "metadata": {},
   "outputs": [
    {
     "name": "stdin",
     "output_type": "stream",
     "text": [
      "Enter a year:  2023\n"
     ]
    },
    {
     "name": "stdout",
     "output_type": "stream",
     "text": [
      "It's not a leap year.\n"
     ]
    }
   ],
   "source": [
    "# Ans: 4 \n",
    "\n",
    "# get a year from the user\n",
    "year = int(input('Enter a year: '))\n",
    "\n",
    "# check if it's a leap year\n",
    "if (year % 4 == 0 and year % 100 != 0) or (year % 400 == 0):\n",
    "    print(\"It's a leap year.\")\n",
    "else:\n",
    "    print(\"It's not a leap year.\")"
   ]
  },
  {
   "cell_type": "code",
   "execution_count": null,
   "id": "36c4b02d-07de-48d7-a6c1-c4ac68fbc25d",
   "metadata": {},
   "outputs": [],
   "source": []
  },
  {
   "cell_type": "markdown",
   "id": "5e1f5f9f-3410-423c-ad3e-8e08d6daf7d6",
   "metadata": {},
   "source": [
    "# 5. Create a program that checks whether a character is a vowel or a consonant."
   ]
  },
  {
   "cell_type": "code",
   "execution_count": 5,
   "id": "92442bf3-7eb1-49ac-89b0-db5cedc36567",
   "metadata": {},
   "outputs": [
    {
     "name": "stdin",
     "output_type": "stream",
     "text": [
      "Enter a character:  krish\n"
     ]
    },
    {
     "name": "stdout",
     "output_type": "stream",
     "text": [
      "It's a consonant.\n"
     ]
    }
   ],
   "source": [
    "# Ans: 5 \n",
    "\n",
    "# get a character from the user\n",
    "char = input(\"Enter a character: \").lower()\n",
    "\n",
    "# check if it's a vowel or consonant\n",
    "if char.isalpha():\n",
    "    if char in 'aeiou':\n",
    "        print(\"It's a vowel.\")\n",
    "    else:\n",
    "        print(\"It's a consonant.\")\n",
    "else:\n",
    "    print(\"Invalid input. Please enter a letter.\")"
   ]
  },
  {
   "cell_type": "code",
   "execution_count": null,
   "id": "56fc0534-553b-4d64-ad31-f4bf1dd102fa",
   "metadata": {},
   "outputs": [],
   "source": []
  },
  {
   "cell_type": "markdown",
   "id": "71fd0cb5-ad36-4744-aa6c-d43885598390",
   "metadata": {},
   "source": [
    "# 6. Implement a program to determine whether a given number is even or odd."
   ]
  },
  {
   "cell_type": "code",
   "execution_count": 6,
   "id": "19611ed8-3230-426f-b7ca-444f6915bc97",
   "metadata": {},
   "outputs": [
    {
     "name": "stdin",
     "output_type": "stream",
     "text": [
      "Enter a number:  4503\n"
     ]
    },
    {
     "name": "stdout",
     "output_type": "stream",
     "text": [
      "The number is odd.\n"
     ]
    }
   ],
   "source": [
    "# Ans: 6 \n",
    "\n",
    "# get a number from the user\n",
    "number = int(input(\"Enter a number: \"))\n",
    "\n",
    "# check if it's even or odd\n",
    "if number % 2 == 0:\n",
    "    print(\"The number is even.\")\n",
    "else:\n",
    "    print(\"The number is odd.\")"
   ]
  },
  {
   "cell_type": "code",
   "execution_count": null,
   "id": "7c8a5027-1e51-4cea-ab1b-4280b2264ea3",
   "metadata": {},
   "outputs": [],
   "source": []
  },
  {
   "cell_type": "markdown",
   "id": "7ae1f6eb-6000-499b-939c-298cb9f958a4",
   "metadata": {},
   "source": [
    "# 7. Write a Python function to calculate the absolute value of a number without using the `abs()` function."
   ]
  },
  {
   "cell_type": "code",
   "execution_count": 7,
   "id": "37d4c396-645e-4370-ade8-55fbf32ddedf",
   "metadata": {},
   "outputs": [
    {
     "name": "stdin",
     "output_type": "stream",
     "text": [
      "Enter a number:  50\n"
     ]
    },
    {
     "name": "stdout",
     "output_type": "stream",
     "text": [
      "The absolute value is: 50.0\n"
     ]
    }
   ],
   "source": [
    "# Ans: 7 \n",
    "\n",
    "# get a number from the user\n",
    "number = float(input(\"Enter a number: \"))\n",
    "\n",
    "# calculate and print the absolute value\n",
    "if number < 0:\n",
    "    absolute_value = -number\n",
    "else:\n",
    "    absolute_value = number\n",
    "\n",
    "print(\"The absolute value is:\", absolute_value)"
   ]
  },
  {
   "cell_type": "code",
   "execution_count": null,
   "id": "98465c96-1994-437f-b440-3a57d6fa0c0f",
   "metadata": {},
   "outputs": [],
   "source": []
  },
  {
   "cell_type": "markdown",
   "id": "3d6fc666-1ba3-4b5c-9159-dc73c7b648b9",
   "metadata": {},
   "source": [
    "# 8. Develop a program that determines the largest of three given numbers using if-else statements."
   ]
  },
  {
   "cell_type": "code",
   "execution_count": 8,
   "id": "4f795685-e6d6-4792-8077-7136a0ab4521",
   "metadata": {},
   "outputs": [
    {
     "name": "stdin",
     "output_type": "stream",
     "text": [
      "Enter the first number:  45\n",
      "Enter the second number:  54\n",
      "Enter the third number:  30\n"
     ]
    },
    {
     "name": "stdout",
     "output_type": "stream",
     "text": [
      "The largest number is: 54.0\n"
     ]
    }
   ],
   "source": [
    "# Ans: 8 \n",
    "\n",
    "# get three numbers from the user\n",
    "num1 = float(input(\"Enter the first number: \"))\n",
    "num2 = float(input(\"Enter the second number: \"))\n",
    "num3 = float(input(\"Enter the third number: \"))\n",
    "\n",
    "# find and print the largest number\n",
    "if num1 >= num2 and num1 >= num3:\n",
    "    print(\"The largest number is:\", num1)\n",
    "elif num2 >= num1 and num2 >= num3:\n",
    "    print(\"The largest number is:\", num2)\n",
    "else:\n",
    "    print(\"The largest number is:\", num3)"
   ]
  },
  {
   "cell_type": "code",
   "execution_count": null,
   "id": "21bcd664-a98c-499b-90e6-8d43a158fb55",
   "metadata": {},
   "outputs": [],
   "source": []
  },
  {
   "cell_type": "markdown",
   "id": "0b01e74b-8ea9-45c4-be29-2ef4db7362a4",
   "metadata": {},
   "source": [
    "# 9. Create a program that checks if a given string is a palindrome."
   ]
  },
  {
   "cell_type": "code",
   "execution_count": 9,
   "id": "a00f235b-b133-47a5-9ecb-795e940ff091",
   "metadata": {},
   "outputs": [
    {
     "name": "stdin",
     "output_type": "stream",
     "text": [
      "Enter a string:  level\n"
     ]
    },
    {
     "name": "stdout",
     "output_type": "stream",
     "text": [
      "It's a palindrome.\n"
     ]
    }
   ],
   "source": [
    "# Ans: 9 \n",
    "\n",
    "# get a string from the user\n",
    "string = input(\"Enter a string: \")\n",
    "\n",
    "# Remove spaces and convert to lowercase for case-insensitive comparison\n",
    "string = string.replace(\" \", \"\").lower()\n",
    "\n",
    "# Check if it's a palindrome\n",
    "if string == string[::-1]:\n",
    "    print(\"It's a palindrome.\")\n",
    "else:\n",
    "    print(\"It's not a palindrome.\")"
   ]
  },
  {
   "cell_type": "code",
   "execution_count": null,
   "id": "1d6eb28a-3459-42ed-a45d-9831760e8c44",
   "metadata": {},
   "outputs": [],
   "source": []
  },
  {
   "cell_type": "markdown",
   "id": "89270b3a-4fa6-4fc3-a4c6-24a6fb5fff99",
   "metadata": {},
   "source": [
    "# 10. Write a Python program to calculate the grade based on a student's score."
   ]
  },
  {
   "cell_type": "code",
   "execution_count": 10,
   "id": "7abe3dc4-3e7a-4317-822f-57fbf7620faa",
   "metadata": {},
   "outputs": [
    {
     "name": "stdin",
     "output_type": "stream",
     "text": [
      "Enter your score:  85\n"
     ]
    },
    {
     "name": "stdout",
     "output_type": "stream",
     "text": [
      "Your grade is: B\n"
     ]
    }
   ],
   "source": [
    "# Ans: 10 \n",
    "\n",
    "# get the student's score from the user\n",
    "score = float(input(\"Enter your score: \"))\n",
    "\n",
    "# determine the grade\n",
    "if score >= 90:\n",
    "    grade = 'A'\n",
    "elif score >= 80:\n",
    "    grade = 'B'\n",
    "elif score >= 70:\n",
    "    grade = 'C'\n",
    "elif score >= 60:\n",
    "    grade = 'D'\n",
    "else:\n",
    "    grade = 'F'\n",
    "\n",
    "print(\"Your grade is:\", grade)"
   ]
  },
  {
   "cell_type": "code",
   "execution_count": null,
   "id": "6f1b3916-347a-4d37-adec-1ab054e68889",
   "metadata": {},
   "outputs": [],
   "source": []
  },
  {
   "cell_type": "markdown",
   "id": "518c7b70-9be6-4697-b816-1b93fe99d192",
   "metadata": {},
   "source": [
    "# **Nested If-Else Statements:**"
   ]
  },
  {
   "cell_type": "markdown",
   "id": "0beffdf5-c068-489a-85fb-b91b5b436c26",
   "metadata": {},
   "source": [
    "# 11. Write a program to find the largest among three numbers using nested if-else statements."
   ]
  },
  {
   "cell_type": "code",
   "execution_count": 11,
   "id": "768e2957-ebbc-4a27-9a01-2cd34ef54f7e",
   "metadata": {},
   "outputs": [
    {
     "name": "stdin",
     "output_type": "stream",
     "text": [
      "Enter the first number:  45\n",
      "Enter the second number:  52\n",
      "Enter the third number:  258\n"
     ]
    },
    {
     "name": "stdout",
     "output_type": "stream",
     "text": [
      "The largest number is: 258.0\n"
     ]
    }
   ],
   "source": [
    "# Ans: 11\n",
    "\n",
    "# get three numbers from the user\n",
    "num1 = float(input(\"Enter the first number: \"))\n",
    "num2 = float(input(\"Enter the second number: \"))\n",
    "num3 = float(input(\"Enter the third number: \"))\n",
    "\n",
    "# determine the largest number using nested if-else statements\n",
    "if num1 >= num2:\n",
    "    if num1 >= num3:\n",
    "        largest = num1\n",
    "    else:\n",
    "        largest = num3\n",
    "else:\n",
    "    if num2 >= num3:\n",
    "        largest = num2\n",
    "    else:\n",
    "        largest = num3\n",
    "\n",
    "print(\"The largest number is:\", largest)"
   ]
  },
  {
   "cell_type": "code",
   "execution_count": null,
   "id": "d03a298e-796e-4e64-8085-d1b9db900043",
   "metadata": {},
   "outputs": [],
   "source": []
  },
  {
   "cell_type": "markdown",
   "id": "818951e8-622e-49bc-9da5-c92bfc49d613",
   "metadata": {},
   "source": [
    "# 12. Implement a program to determine if a triangle is equilateral, isosceles, or scalene.\n"
   ]
  },
  {
   "cell_type": "code",
   "execution_count": 12,
   "id": "a5d6ae80-4eee-4ee7-a43a-74807139106b",
   "metadata": {},
   "outputs": [
    {
     "name": "stdin",
     "output_type": "stream",
     "text": [
      "Enter the length of the first side:  50\n",
      "Enter the length of the second side:  90\n",
      "Enter the length of the third side:  60\n"
     ]
    },
    {
     "name": "stdout",
     "output_type": "stream",
     "text": [
      "The triangle is: Scalene\n"
     ]
    }
   ],
   "source": [
    "# Ans: 12\n",
    "\n",
    "# get the lengths of three sides of a triangle\n",
    "side1 = float(input(\"Enter the length of the first side: \"))\n",
    "side2 = float(input(\"Enter the length of the second side: \"))\n",
    "side3 = float(input(\"Enter the length of the third side: \"))\n",
    "\n",
    "# determine the type of triangle using nested if-else statements\n",
    "if side1 == side2 == side3:\n",
    "    triangle_type = \"Equilateral\"\n",
    "elif side1 == side2 or side1 == side3 or side2 == side3:\n",
    "    triangle_type = \"Isosceles\"\n",
    "else:\n",
    "    triangle_type = \"Scalene\"\n",
    "\n",
    "print(\"The triangle is:\", triangle_type)"
   ]
  },
  {
   "cell_type": "code",
   "execution_count": null,
   "id": "95a74010-bd4b-4271-9a2e-ce0a119be854",
   "metadata": {},
   "outputs": [],
   "source": []
  },
  {
   "cell_type": "markdown",
   "id": "9154148b-7b00-4f85-834b-dfb6c9766890",
   "metadata": {},
   "source": [
    "# 13. Develop a program that checks if a year is a leap year and also if it is a century year."
   ]
  },
  {
   "cell_type": "code",
   "execution_count": 13,
   "id": "bd6dd632-1029-4791-bf5a-ee12786c9d05",
   "metadata": {},
   "outputs": [
    {
     "name": "stdin",
     "output_type": "stream",
     "text": [
      "Enter a year:  2000\n"
     ]
    },
    {
     "name": "stdout",
     "output_type": "stream",
     "text": [
      "Leap year: True\n",
      "Century year: True\n"
     ]
    }
   ],
   "source": [
    "# Ans: 13\n",
    "\n",
    "# get a year from the user\n",
    "year = int(input(\"Enter a year: \"))\n",
    "\n",
    "# check if it's a leap year and if it's a century year\n",
    "if (year % 4 == 0 and year % 100 != 0) or (year % 400 == 0):\n",
    "    is_leap_year = True\n",
    "else:\n",
    "    is_leap_year = False\n",
    "\n",
    "if year % 100 == 0:\n",
    "    is_century_year = True\n",
    "else:\n",
    "    is_century_year = False\n",
    "\n",
    "print(\"Leap year:\", is_leap_year)\n",
    "print(\"Century year:\", is_century_year)"
   ]
  },
  {
   "cell_type": "code",
   "execution_count": null,
   "id": "78ea541d-2c82-4242-acd3-9325c03b326e",
   "metadata": {},
   "outputs": [],
   "source": []
  },
  {
   "cell_type": "markdown",
   "id": "98a01e05-94d7-4f79-8afe-3048bacc8701",
   "metadata": {},
   "source": [
    "# 14. Write a Python script to determine if a number is positive, negative, or zero.\n"
   ]
  },
  {
   "cell_type": "code",
   "execution_count": 14,
   "id": "9ce5da20-f252-41fd-ab5e-d1278c32990a",
   "metadata": {},
   "outputs": [
    {
     "name": "stdin",
     "output_type": "stream",
     "text": [
      "Enter a number:  456\n"
     ]
    },
    {
     "name": "stdout",
     "output_type": "stream",
     "text": [
      "The number is: Positive\n"
     ]
    }
   ],
   "source": [
    "# Ans: 14 \n",
    "\n",
    "# get a number from the user\n",
    "number = float(input(\"Enter a number: \"))\n",
    "\n",
    "# determine if it's positive, negative, or zero using nested if-else statements\n",
    "if number > 0:\n",
    "    number_type = \"Positive\"\n",
    "elif number < 0:\n",
    "    number_type = \"Negative\"\n",
    "else:\n",
    "    number_type = \"Zero\"\n",
    "\n",
    "print(\"The number is:\", number_type)"
   ]
  },
  {
   "cell_type": "code",
   "execution_count": null,
   "id": "126f46e8-bec0-4ea0-8880-e5203212bcf7",
   "metadata": {},
   "outputs": [],
   "source": []
  },
  {
   "cell_type": "markdown",
   "id": "9d9eb429-269c-4a33-84bf-db3560ddaf18",
   "metadata": {},
   "source": [
    "# 15. Create a program to check if a person is a teenager (between 13 and 19 years old)."
   ]
  },
  {
   "cell_type": "code",
   "execution_count": 15,
   "id": "06a3ea14-d90f-4357-8c6f-9df653b0f4aa",
   "metadata": {},
   "outputs": [
    {
     "name": "stdin",
     "output_type": "stream",
     "text": [
      "Enter your age:  18\n"
     ]
    },
    {
     "name": "stdout",
     "output_type": "stream",
     "text": [
      "Is the person a teenager: True\n"
     ]
    }
   ],
   "source": [
    "# Ans: 15 \n",
    "\n",
    "# get the person's age\n",
    "age = int(input(\"Enter your age: \"))\n",
    "\n",
    "# check if the person is a teenager\n",
    "if age >= 13 and age <= 19:\n",
    "    is_teenager = True\n",
    "else:\n",
    "    is_teenager = False\n",
    "\n",
    "print(\"Is the person a teenager:\", is_teenager)"
   ]
  },
  {
   "cell_type": "code",
   "execution_count": null,
   "id": "dd0f7fdf-3390-49c0-a2dd-9384b5cd58a2",
   "metadata": {},
   "outputs": [],
   "source": []
  },
  {
   "cell_type": "markdown",
   "id": "ba397416-dd79-4aca-9cd3-8b33030e4119",
   "metadata": {},
   "source": [
    "# 16. Develop a program that determines the type of angle based on its measure (acute, obtuse, or right)."
   ]
  },
  {
   "cell_type": "code",
   "execution_count": 16,
   "id": "0cfe63f1-fabc-4e77-bb25-f3a3dd40ee17",
   "metadata": {},
   "outputs": [
    {
     "name": "stdin",
     "output_type": "stream",
     "text": [
      "Enter the measure of the angle in degrees:  90\n"
     ]
    },
    {
     "name": "stdout",
     "output_type": "stream",
     "text": [
      "The angle is: Right\n"
     ]
    }
   ],
   "source": [
    "# Ans: 16 \n",
    "\n",
    "# get the measure of an angle in degrees\n",
    "angle = float(input(\"Enter the measure of the angle in degrees: \"))\n",
    "\n",
    "# determine the type of angle using nested if-else statements\n",
    "if angle < 90:\n",
    "    angle_type = \"Acute\"\n",
    "elif angle == 90:\n",
    "    angle_type = \"Right\"\n",
    "else:\n",
    "    angle_type = \"Obtuse\"\n",
    "\n",
    "print(\"The angle is:\", angle_type)"
   ]
  },
  {
   "cell_type": "code",
   "execution_count": null,
   "id": "7fae5449-0091-434b-abb1-e7f3338c0c6b",
   "metadata": {},
   "outputs": [],
   "source": []
  },
  {
   "cell_type": "markdown",
   "id": "681c86e8-655f-40a9-8e23-bd793ca41512",
   "metadata": {},
   "source": [
    "# 17. Write a Python program to calculate the roots of a quadratic equation."
   ]
  },
  {
   "cell_type": "code",
   "execution_count": 17,
   "id": "991735c2-a6a0-4acb-8ae8-f0a4c6ec4cde",
   "metadata": {},
   "outputs": [
    {
     "name": "stdin",
     "output_type": "stream",
     "text": [
      "Enter the coefficient 'a':  45\n",
      "Enter the coefficient 'b':  60\n",
      "Enter the coefficient 'c':  90\n"
     ]
    },
    {
     "name": "stdout",
     "output_type": "stream",
     "text": [
      "Root type: Complex roots (no real roots)\n"
     ]
    }
   ],
   "source": [
    "# Ans: 17 \n",
    "\n",
    "import math\n",
    "\n",
    "# get the coefficients of the quadratic equation\n",
    "a = float(input(\"Enter the coefficient 'a': \"))\n",
    "b = float(input(\"Enter the coefficient 'b': \"))\n",
    "c = float(input(\"Enter the coefficient 'c': \"))\n",
    "\n",
    "# calculate the discriminant\n",
    "discriminant = b**2 - 4*a*c\n",
    "\n",
    "# determine the number and type of roots using nested if-else statements\n",
    "if discriminant > 0:\n",
    "    root_type = \"Two distinct real roots\"\n",
    "    root1 = (-b + math.sqrt(discriminant)) / (2*a)\n",
    "    root2 = (-b - math.sqrt(discriminant)) / (2*a)\n",
    "elif discriminant == 0:\n",
    "    root_type = \"One real root (repeated)\"\n",
    "    root1 = -b / (2*a)\n",
    "else:\n",
    "    root_type = \"Complex roots (no real roots)\"\n",
    "\n",
    "print(\"Root type:\", root_type)\n",
    "if discriminant >= 0:\n",
    "    print(\"Root(s):\", root1, root2 if discriminant > 0 else \"\")"
   ]
  },
  {
   "cell_type": "code",
   "execution_count": null,
   "id": "f1ae0414-40ed-4f02-9114-194c3fdd1c13",
   "metadata": {},
   "outputs": [],
   "source": []
  },
  {
   "cell_type": "markdown",
   "id": "d509d070-704a-4ba4-83bf-69511f258fcb",
   "metadata": {},
   "source": [
    "# 18. Implement a program to determine the day of the week based on a user-provided number (1 for Monday, 2 for Tuesday, etc.)."
   ]
  },
  {
   "cell_type": "code",
   "execution_count": 18,
   "id": "159d645f-b634-40af-9629-ea498f9b27b6",
   "metadata": {},
   "outputs": [
    {
     "name": "stdin",
     "output_type": "stream",
     "text": [
      "Enter a number (1 for Monday, 2 for Tuesday, etc.):  2\n"
     ]
    },
    {
     "name": "stdout",
     "output_type": "stream",
     "text": [
      "Day of the week: Tuesday\n"
     ]
    }
   ],
   "source": [
    "# Ans: 18 \n",
    "\n",
    "# get a number from the user\n",
    "day_number = int(input(\"Enter a number (1 for Monday, 2 for Tuesday, etc.): \"))\n",
    "\n",
    "# determine the day of the week using nested if-else statements\n",
    "if day_number == 1:\n",
    "    day_name = \"Monday\"\n",
    "elif day_number == 2:\n",
    "    day_name = \"Tuesday\"\n",
    "elif day_number == 3:\n",
    "    day_name = \"Wednesday\"\n",
    "elif day_number == 4:\n",
    "    day_name = \"Thursday\"\n",
    "elif day_number == 5:\n",
    "    day_name = \"Friday\"\n",
    "elif day_number == 6:\n",
    "    day_name = \"Saturday\"\n",
    "elif day_number == 7:\n",
    "    day_name = \"Sunday\"\n",
    "else:\n",
    "    day_name = \"Invalid input\"\n",
    "\n",
    "print(\"Day of the week:\", day_name)"
   ]
  },
  {
   "cell_type": "code",
   "execution_count": null,
   "id": "08086feb-dde1-47d8-a4e4-1d5ac6e0cf72",
   "metadata": {},
   "outputs": [],
   "source": []
  },
  {
   "cell_type": "markdown",
   "id": "7bedee32-8c79-4802-b6b1-496e1cb759dc",
   "metadata": {},
   "source": [
    "# 19. Create a program that determines if a year is a leap year and also if it is evenly divisible by 400."
   ]
  },
  {
   "cell_type": "code",
   "execution_count": 19,
   "id": "208b3236-4eab-41e4-b40b-91963209b099",
   "metadata": {},
   "outputs": [
    {
     "name": "stdin",
     "output_type": "stream",
     "text": [
      "Enter a year:  1947\n"
     ]
    },
    {
     "name": "stdout",
     "output_type": "stream",
     "text": [
      "Leap year: False\n",
      "Divisible by 400: False\n"
     ]
    }
   ],
   "source": [
    "# Ans: 19 \n",
    "\n",
    "# Input: Get a year from the user\n",
    "year = int(input(\"Enter a year: \"))\n",
    "\n",
    "# Check if it's a leap year and if it's evenly divisible by 400\n",
    "if (year % 4 == 0 and year % 100 != 0) or (year % 400 == 0):\n",
    "    is_leap_year = True\n",
    "else:\n",
    "    is_leap_year = False\n",
    "\n",
    "is_divisible_by_400 = year % 400 == 0\n",
    "\n",
    "print(\"Leap year:\", is_leap_year)\n",
    "print(\"Divisible by 400:\", is_divisible_by_400)"
   ]
  },
  {
   "cell_type": "code",
   "execution_count": null,
   "id": "aaba2f46-349e-44a5-b2d5-a09ee7e09e7c",
   "metadata": {},
   "outputs": [],
   "source": []
  },
  {
   "cell_type": "markdown",
   "id": "b97e037b-5537-47e5-8bea-220a9c0f3cb6",
   "metadata": {},
   "source": [
    "# 20. Develop a program that checks if a given number is prime or not using nested if-else statements."
   ]
  },
  {
   "cell_type": "code",
   "execution_count": 20,
   "id": "2a60866b-7a2b-4a6b-8e76-064ac3eb4eaa",
   "metadata": {},
   "outputs": [
    {
     "name": "stdin",
     "output_type": "stream",
     "text": [
      "Enter a number:  15\n"
     ]
    },
    {
     "name": "stdout",
     "output_type": "stream",
     "text": [
      "Is the number prime: False\n"
     ]
    }
   ],
   "source": [
    "# Ans: 20 \n",
    "\n",
    "# get a number from the user\n",
    "number = int(input(\"Enter a number: \"))\n",
    "\n",
    "# check if it's prime using nested if-else statements\n",
    "if number <= 1:\n",
    "    is_prime = False\n",
    "elif number <= 3:\n",
    "    is_prime = True\n",
    "else:\n",
    "    is_prime = True\n",
    "    for i in range(2, int(number**0.5) + 1):\n",
    "        if number % i == 0:\n",
    "            is_prime = False\n",
    "            break\n",
    "\n",
    "print(\"Is the number prime:\", is_prime)"
   ]
  },
  {
   "cell_type": "code",
   "execution_count": null,
   "id": "e818d572-125a-4288-a861-5017cd8d99ae",
   "metadata": {},
   "outputs": [],
   "source": []
  },
  {
   "cell_type": "code",
   "execution_count": null,
   "id": "344751da-acee-4f63-a03c-61da8a486c30",
   "metadata": {},
   "outputs": [],
   "source": []
  },
  {
   "cell_type": "markdown",
   "id": "328ffbbb-9d0c-4f04-bcd1-138579ef00c2",
   "metadata": {},
   "source": [
    "# **Elif Statements:**"
   ]
  },
  {
   "cell_type": "markdown",
   "id": "e9059ede-716f-441a-8734-18ec8b0b1e07",
   "metadata": {},
   "source": [
    "# 21. Write a Python program to assign grades based on different ranges of scores using elif statements."
   ]
  },
  {
   "cell_type": "code",
   "execution_count": 21,
   "id": "ec021fba-7bdb-4e94-a5f1-bbe073af119b",
   "metadata": {},
   "outputs": [
    {
     "name": "stdin",
     "output_type": "stream",
     "text": [
      "Enter the student's score:  95\n"
     ]
    },
    {
     "name": "stdout",
     "output_type": "stream",
     "text": [
      "Grade: A\n"
     ]
    }
   ],
   "source": [
    "# Ans: 21\n",
    "\n",
    "# get a student's score from the user\n",
    "score = float(input(\"Enter the student's score: \"))\n",
    "\n",
    "#assign grades based on different score ranges using elif statements\n",
    "if score >= 90:\n",
    "    grade = 'A'\n",
    "elif score >= 80:\n",
    "    grade = 'B'\n",
    "elif score >= 70:\n",
    "    grade = 'C'\n",
    "elif score >= 60:\n",
    "    grade = 'D'\n",
    "else:\n",
    "    grade = 'F'\n",
    "\n",
    "print(\"Grade:\", grade)"
   ]
  },
  {
   "cell_type": "code",
   "execution_count": null,
   "id": "e21e8b6d-6ee9-4908-b83f-2208af93432f",
   "metadata": {},
   "outputs": [],
   "source": []
  },
  {
   "cell_type": "markdown",
   "id": "6790efbb-121f-4b31-86f6-72061fd18d67",
   "metadata": {},
   "source": [
    "# 22. Implement a program to determine the type of a triangle based on its angles."
   ]
  },
  {
   "cell_type": "code",
   "execution_count": 22,
   "id": "b0852004-c933-463e-98e8-68c9f59f1b02",
   "metadata": {},
   "outputs": [
    {
     "name": "stdin",
     "output_type": "stream",
     "text": [
      "Enter the measure of the first angle:  30\n",
      "Enter the measure of the second angle:  60\n",
      "Enter the measure of the third angle:  90\n"
     ]
    },
    {
     "name": "stdout",
     "output_type": "stream",
     "text": [
      "Triangle type: Right Triangle\n"
     ]
    }
   ],
   "source": [
    "# Ans: 22\n",
    "\n",
    "# get the measures of three angles of a triangle\n",
    "angle1 = float(input(\"Enter the measure of the first angle: \"))\n",
    "angle2 = float(input(\"Enter the measure of the second angle: \"))\n",
    "angle3 = float(input(\"Enter the measure of the third angle: \"))\n",
    "\n",
    "# determine the type of triangle based on angle measures using elif statements\n",
    "if angle1 == 90 or angle2 == 90 or angle3 == 90:\n",
    "    triangle_type = \"Right Triangle\"\n",
    "elif angle1 > 90 or angle2 > 90 or angle3 > 90:\n",
    "    triangle_type = \"Obtuse Triangle\"\n",
    "else:\n",
    "    triangle_type = \"Acute Triangle\"\n",
    "\n",
    "print(\"Triangle type:\", triangle_type)"
   ]
  },
  {
   "cell_type": "code",
   "execution_count": null,
   "id": "d2f0ee02-dab7-4dd0-b0bb-b72e8621cf90",
   "metadata": {},
   "outputs": [],
   "source": []
  },
  {
   "cell_type": "markdown",
   "id": "1dfcb966-c6f4-4f02-a2fb-b6886554f4b8",
   "metadata": {},
   "source": [
    "# 23. Develop a program to categorize a given person's BMI into underweight, normal, overweight, or obese using elif statements."
   ]
  },
  {
   "cell_type": "code",
   "execution_count": null,
   "id": "b1681b6e-00e3-464f-ae8c-b01c3fba5987",
   "metadata": {},
   "outputs": [],
   "source": [
    "# Ans: 23\n",
    "\n",
    "# get a person's weight (in kg) and height (in meters)\n",
    "weight = float(input(\"Enter weight (kg): \"))\n",
    "height = float(input(\"Enter height (m): \"))\n",
    "\n",
    "# calculate BMI and categorize using elif statements\n",
    "bmi = weight / (height ** 2)\n",
    "\n",
    "if bmi < 18.5:\n",
    "    category = \"Underweight\"\n",
    "elif 18.5 <= bmi < 24.9:\n",
    "    category = \"Normal Weight\"\n",
    "elif 24.9 <= bmi < 29.9:\n",
    "    category = \"Overweight\"\n",
    "else:\n",
    "    category = \"Obese\"\n",
    "\n",
    "print(\"BMI category:\", category)"
   ]
  },
  {
   "cell_type": "code",
   "execution_count": null,
   "id": "a14579b2-b373-499b-92a5-30543a60bc08",
   "metadata": {},
   "outputs": [],
   "source": []
  },
  {
   "cell_type": "markdown",
   "id": "487ed2b7-9c3c-47dd-a80c-037475f70a94",
   "metadata": {},
   "source": [
    "# 24. Create a program that determines whether a given number is positive, negative, or zero using elif statements."
   ]
  },
  {
   "cell_type": "code",
   "execution_count": null,
   "id": "89626898-20c3-45de-8ccf-2511ad42b3f7",
   "metadata": {},
   "outputs": [],
   "source": [
    "# Ans: 24\n",
    "\n",
    "# get a number from the user\n",
    "number = float(input(\"Enter a number: \"))\n",
    "\n",
    "# determine if it's positive, negative, or zero using elif statements\n",
    "if number > 0:\n",
    "    number_type = \"Positive\"\n",
    "elif number < 0:\n",
    "    number_type = \"Negative\"\n",
    "else:\n",
    "    number_type = \"Zero\"\n",
    "\n",
    "print(\"The number is:\", number_type)"
   ]
  },
  {
   "cell_type": "code",
   "execution_count": null,
   "id": "a5f33b3b-9021-4c76-aa3e-5dc857f1f37b",
   "metadata": {},
   "outputs": [],
   "source": []
  },
  {
   "cell_type": "markdown",
   "id": "bba8b206-63be-4244-a532-ac5081e74df7",
   "metadata": {},
   "source": [
    "# 25. Write a Python script to determine the type of a character (uppercase, lowercase, or special) using elif statements."
   ]
  },
  {
   "cell_type": "code",
   "execution_count": null,
   "id": "5f612540-daeb-480e-aa16-458a4e42299d",
   "metadata": {},
   "outputs": [],
   "source": [
    "# Ans: 25\n",
    "\n",
    "# get a character from the user\n",
    "char = input(\"Enter a character: \")\n",
    "\n",
    "# determine the type of character using elif statements\n",
    "if char.isupper():\n",
    "    char_type = \"Uppercase\"\n",
    "elif char.islower():\n",
    "    char_type = \"Lowercase\"\n",
    "else:\n",
    "    char_type = \"Special character\"\n",
    "\n",
    "print(\"Character type:\", char_type)"
   ]
  },
  {
   "cell_type": "code",
   "execution_count": null,
   "id": "1bd0c28d-578c-4a9c-9126-4e12957e1148",
   "metadata": {},
   "outputs": [],
   "source": []
  },
  {
   "cell_type": "markdown",
   "id": "fda5a82b-b021-4f12-9c3b-aa4d30912855",
   "metadata": {},
   "source": [
    "# 26. Implement a program to calculate the discounted price based on different purchase amounts using elif statements."
   ]
  },
  {
   "cell_type": "code",
   "execution_count": null,
   "id": "be2ba161-f797-4215-a9cd-a0e861e206a8",
   "metadata": {},
   "outputs": [],
   "source": [
    "# Ans: 26 \n",
    "\n",
    "# get the purchase amount from the user\n",
    "purchase_amount = float(input(\"Enter the purchase amount: \"))\n",
    "\n",
    "#calculate the discounted price based on purchase amount using elif statements\n",
    "if purchase_amount >= 1000:\n",
    "    discount = 0.1  # 10% discount for purchases over or equal to 1000\n",
    "elif purchase_amount >= 500:\n",
    "    discount = 0.05  # 5% discount for purchases over or equal to 500\n",
    "else:\n",
    "    discount = 0\n",
    "\n",
    "discounted_price = purchase_amount - (purchase_amount * discount)\n",
    "\n",
    "print(\"Discounted price:\", discounted_price)"
   ]
  },
  {
   "cell_type": "code",
   "execution_count": null,
   "id": "87f8eae7-c71a-4906-99db-5eb79c5742cf",
   "metadata": {},
   "outputs": [],
   "source": []
  },
  {
   "cell_type": "markdown",
   "id": "5714ecfa-12e0-4765-be45-472650f9ed10",
   "metadata": {},
   "source": [
    "# 27. Develop a program to calculate the electricity bill based on different consumption slabs using elif statements."
   ]
  },
  {
   "cell_type": "code",
   "execution_count": null,
   "id": "d3361f1f-2941-4753-b727-8f2fc05eedb6",
   "metadata": {},
   "outputs": [],
   "source": [
    "# Ans: 27 \n",
    "\n",
    "# get the electricity consumption in kWh from the user\n",
    "consumption = float(input(\"Enter electricity consumption in kWh: \"))\n",
    "\n",
    "# calculate the electricity bill based on consumption using elif statements\n",
    "if consumption <= 50:\n",
    "    bill = consumption * 0.5  # ₹0.50 per kWh for the first 50 kWh\n",
    "elif consumption <= 100:\n",
    "    bill = 50 * 0.5 + (consumption - 50) * 0.75  # ₹0.75 per kWh for the next 50 kWh\n",
    "else:\n",
    "    bill = 50 * 0.5 + 50 * 0.75 + (consumption - 100) * 1.2  # ₹1.20 per kWh for additional kWh\n",
    "\n",
    "# convert the bill amount from USD to INR using the exchange rate\n",
    "exchange_rate = 80  # 1 USD = 80 INR\n",
    "bill_in_inr = bill * exchange_rate\n",
    "\n",
    "print(\"Electricity bill: ₹\", bill_in_inr)"
   ]
  },
  {
   "cell_type": "code",
   "execution_count": null,
   "id": "6a849f58-9d11-44a0-8d7a-9e3d24214c50",
   "metadata": {},
   "outputs": [],
   "source": []
  },
  {
   "cell_type": "markdown",
   "id": "2790c1c4-3ea8-4a2b-95ad-6eba9f6d766f",
   "metadata": {},
   "source": [
    "# 28. Create a program to determine the type of quadrilateral based on its angles and sides using elif statements."
   ]
  },
  {
   "cell_type": "code",
   "execution_count": null,
   "id": "e15b9b8d-d241-4a50-b46b-f3d38e564f19",
   "metadata": {},
   "outputs": [],
   "source": [
    "# Ans: 28 \n",
    "\n",
    "# get the measures of angles and sides of a quadrilateral\n",
    "angle1 = float(input(\"Enter the measure of the first angle: \"))\n",
    "angle2 = float(input(\"Enter the measure of the second angle: \"))\n",
    "angle3 = float(input(\"Enter the measure of the third angle: \"))\n",
    "angle4 = float(input(\"Enter the measure of the fourth angle: \"))\n",
    "side1 = float(input(\"Enter the length of the first side: \"))\n",
    "side2 = float(input(\"Enter the length of the second side: \"))\n",
    "side3 = float(input(\"Enter the length of the third side: \"))\n",
    "side4 = float(input(\"Enter the length of the fourth side: \"))\n",
    "\n",
    "# determine the type of quadrilateral using elif statements\n",
    "if angle1 == angle2 == angle3 == angle4 == 90:\n",
    "    quadrilateral_type = \"Rectangle\"\n",
    "elif angle1 == angle2 == angle3 == angle4 != 90:\n",
    "    quadrilateral_type = \"Rhombus\"\n",
    "elif side1 == side2 == side3 == side4:\n",
    "    quadrilateral_type = \"Square\"\n",
    "elif side1 == side2 == side3 == side4 and angle1 == angle2 == angle3 == angle4 != 90:\n",
    "    quadrilateral_type = \"Square (also Rhombus)\"\n",
    "else:\n",
    "    quadrilateral_type = \"Quadrilateral\"\n",
    "\n",
    "print(\"Quadrilateral type:\", quadrilateral_type)"
   ]
  },
  {
   "cell_type": "code",
   "execution_count": null,
   "id": "8b3f77e4-f989-4e2b-9569-5a187c58eecc",
   "metadata": {},
   "outputs": [],
   "source": []
  },
  {
   "cell_type": "markdown",
   "id": "9142b527-444f-43d9-b4d7-b6d653800f66",
   "metadata": {},
   "source": [
    "# 29. Write a Python script to determine the season based on a user-provided month using elif statements."
   ]
  },
  {
   "cell_type": "code",
   "execution_count": null,
   "id": "154aabf2-e296-4eb9-abe2-ad638af2e14f",
   "metadata": {},
   "outputs": [],
   "source": [
    "# Ans: 29 \n",
    "\n",
    "# get a month from the user\n",
    "month = input(\"Enter a month (e.g., January, February, etc.): \")\n",
    "\n",
    "#determine the season based on the month using elif statements\n",
    "if month in [\"December\", \"January\", \"February\"]:\n",
    "    season = \"Winter\"\n",
    "elif month in [\"March\", \"April\", \"May\"]:\n",
    "    season = \"Spring\"\n",
    "elif month in [\"June\", \"July\", \"August\"]:\n",
    "    season = \"Summer\"\n",
    "elif month in [\"September\", \"October\", \"November\"]:\n",
    "    season = \"Fall\"\n",
    "else:\n",
    "    season = \"Invalid month\"\n",
    "\n",
    "print(\"Season:\", season)"
   ]
  },
  {
   "cell_type": "code",
   "execution_count": null,
   "id": "cc6baa74-dbf0-4796-b6cc-76af34317feb",
   "metadata": {},
   "outputs": [],
   "source": []
  },
  {
   "cell_type": "markdown",
   "id": "89eafd32-0b3d-43f3-8275-2ae7f605b421",
   "metadata": {},
   "source": [
    "# 30. Implement a program to determine the type of a year (leap or common) and month (30 or 31 days) using elif statements."
   ]
  },
  {
   "cell_type": "code",
   "execution_count": null,
   "id": "c900c009-5439-4292-bd49-3eeb0d359942",
   "metadata": {},
   "outputs": [],
   "source": [
    "## Ans: 30 \n",
    "\n",
    "# get a year and a month from the user\n",
    "year = int(input(\"Enter a year: \"))\n",
    "month = input(\"Enter a month (e.g., January, February, etc.): \")\n",
    "\n",
    "# determine the type of year (leap or common) using elif statements\n",
    "if (year % 4 == 0 and year % 100 != 0) or (year % 400 == 0):\n",
    "    year_type = \"Leap Year\"\n",
    "else:\n",
    "    year_type = \"Common Year\"\n",
    "\n",
    "# determine the number of days in the month using elif statements\n",
    "if month in [\"January\", \"March\", \"May\", \"July\", \"August\", \"October\", \"December\"]:\n",
    "    days_in_month = 31\n",
    "elif month in [\"April\", \"June\", \"September\", \"November\"]:\n",
    "    days_in_month = 30\n",
    "elif month == \"February\":\n",
    "    if year_type == \"Leap Year\":\n",
    "        days_in_month = 29\n",
    "    else:\n",
    "        days_in_month = 28\n",
    "else:\n",
    "    days_in_month = \"Invalid month\"\n",
    "\n",
    "print(\"Year type:\", year_type)\n",
    "print(\"Number of days in\", month, \":\", days_in_month)"
   ]
  },
  {
   "cell_type": "code",
   "execution_count": null,
   "id": "41cef7db-0529-4ae3-8fe9-51f84568ca5b",
   "metadata": {},
   "outputs": [],
   "source": []
  },
  {
   "cell_type": "code",
   "execution_count": null,
   "id": "281ee244-e170-45de-b392-65dd5a286164",
   "metadata": {},
   "outputs": [],
   "source": []
  },
  {
   "cell_type": "markdown",
   "id": "cc90cd25-0406-4b55-9990-231fd33dcdcc",
   "metadata": {},
   "source": [
    "# **Basic Level:**"
   ]
  },
  {
   "cell_type": "markdown",
   "id": "50a954e7-9207-4bd0-ba0d-d88e4f222d24",
   "metadata": {},
   "source": [
    "# 1. Write a Python program that checks if a given number is positive, negative, or zero."
   ]
  },
  {
   "cell_type": "code",
   "execution_count": null,
   "id": "9dcf0ed8-7ad2-4ce0-b3df-870aef7dcbd2",
   "metadata": {},
   "outputs": [],
   "source": [
    " # Ans: 1 \n",
    "    \n",
    "# input : get a number from the user :\n",
    "num = float(input('Enter a Number:'))\n",
    "\n",
    "# check if it is +ve, -Ve or zero\n",
    "if num > 0 : \n",
    "    result = 'Positive'\n",
    "elif num < 0:\n",
    "    result = 'Negative'\n",
    "else:\n",
    "    result = 'Zero'\n",
    "    \n",
    "print('The Number is :', result)"
   ]
  },
  {
   "cell_type": "code",
   "execution_count": null,
   "id": "36fca640-70c3-49c1-b3c5-571b77aa3ecd",
   "metadata": {},
   "outputs": [],
   "source": []
  },
  {
   "cell_type": "markdown",
   "id": "32b701aa-2945-4e65-8f9b-85ec8aa41b37",
   "metadata": {},
   "source": [
    "# 2. Create a program to determine if a person is eligible to vote based on their age."
   ]
  },
  {
   "cell_type": "code",
   "execution_count": null,
   "id": "0ed7252e-a03a-4b8e-b164-c817d2a65458",
   "metadata": {},
   "outputs": [],
   "source": [
    "# Ans: 2 \n",
    "\n",
    "# input: get the person's age from the user\n",
    "age = int(input(\"Enter your age: \"))\n",
    "\n",
    "# check if the person is eligible to vote\n",
    "if age >= 18:\n",
    "    eligibility = \"Eligible to vote\"\n",
    "else:\n",
    "    eligibility = \"Not eligible to vote\"\n",
    "\n",
    "print(\"You are\", eligibility)"
   ]
  },
  {
   "cell_type": "code",
   "execution_count": null,
   "id": "53c5a75e-4f8d-49b2-88ea-705100894ef2",
   "metadata": {},
   "outputs": [],
   "source": []
  },
  {
   "cell_type": "markdown",
   "id": "e7f5adcd-07ca-4806-b513-0536551880dd",
   "metadata": {},
   "source": [
    "# 3. Write a program to find the maximum of two given numbers using conditional statements."
   ]
  },
  {
   "cell_type": "code",
   "execution_count": null,
   "id": "85924f76-2d93-4d64-9e93-ae3736085811",
   "metadata": {},
   "outputs": [],
   "source": [
    "# Ans: 3 \n",
    "\n",
    "# input: get two numbers from the user\n",
    "num1 = float(input(\"Enter the first number: \"))\n",
    "num2 = float(input(\"Enter the second number: \"))\n",
    "\n",
    "# find the max of the two numbers\n",
    "if num1 > num2:\n",
    "    maximum = num1\n",
    "else:\n",
    "    maximum = num2\n",
    "\n",
    "print(\"The maximum number is\", maximum)"
   ]
  },
  {
   "cell_type": "code",
   "execution_count": null,
   "id": "da19bbf0-f0e8-45aa-a9b5-206d2cd050e4",
   "metadata": {},
   "outputs": [],
   "source": []
  },
  {
   "cell_type": "markdown",
   "id": "3ab73c85-7eef-4fac-b4e5-3faaa6145f5c",
   "metadata": {},
   "source": [
    "# 4. Develop a program that calculates the grade of a student based on their exam score."
   ]
  },
  {
   "cell_type": "code",
   "execution_count": null,
   "id": "38696256-0408-4582-91a3-7de1b7345c54",
   "metadata": {},
   "outputs": [],
   "source": [
    "# # input: get the exam score from the user\n",
    "score = float(input(\"Enter the exam score: \"))\n",
    "\n",
    "# calculate the grade based on the score\n",
    "if score >= 90:\n",
    "    grade = \"A\"\n",
    "elif score >= 80:\n",
    "    grade = \"B\"\n",
    "elif score >= 70:\n",
    "    grade = \"C\"\n",
    "elif score >= 60:\n",
    "    grade = \"D\"\n",
    "else:\n",
    "    grade = \"F\"\n",
    "\n",
    "print(\"The grade is\", grade)"
   ]
  },
  {
   "cell_type": "code",
   "execution_count": null,
   "id": "6641e272-8393-4252-b14d-c498202b71e0",
   "metadata": {},
   "outputs": [],
   "source": []
  },
  {
   "cell_type": "markdown",
   "id": "4ff8a9a0-c9db-4ce8-909c-6086a6b179b0",
   "metadata": {},
   "source": [
    "# 5. Create a program that checks if a year is a leap year or not."
   ]
  },
  {
   "cell_type": "code",
   "execution_count": null,
   "id": "ca899a16-c893-4039-8a20-585a5aab1c3e",
   "metadata": {},
   "outputs": [],
   "source": [
    "# Ans: 5 \n",
    "\n",
    "# input: get a year from the user\n",
    "year = int(input(\"Enter a year: \"))\n",
    "\n",
    "# check if it's a leap year\n",
    "if (year % 4 == 0 and year % 100 != 0) or (year % 400 == 0):\n",
    "    leap_year = \"Leap year\"\n",
    "else:\n",
    "    leap_year = \"Not a leap year\"\n",
    "\n",
    "print(leap_year)"
   ]
  },
  {
   "cell_type": "code",
   "execution_count": null,
   "id": "c532240b-178a-4e55-8b1c-c821b0d6b4d9",
   "metadata": {},
   "outputs": [],
   "source": []
  },
  {
   "cell_type": "markdown",
   "id": "87c1b3f8-fa48-4d44-9831-08031952e8d5",
   "metadata": {},
   "source": [
    "# 6. Write a program to classify a triangle based on its sides' lengths."
   ]
  },
  {
   "cell_type": "code",
   "execution_count": null,
   "id": "1229aafd-96de-429d-a1cc-247c180d4687",
   "metadata": {},
   "outputs": [],
   "source": [
    "# Ans: 6 \n",
    "\n",
    "# input: get the lengths of three sides of a triangle\n",
    "side1 = float(input(\"Enter the length of the first side: \"))\n",
    "side2 = float(input(\"Enter the length of the second side: \"))\n",
    "side3 = float(input(\"Enter the length of the third side: \"))\n",
    "\n",
    "# classify the triangle based on side lengths\n",
    "if side1 == side2 == side3:\n",
    "    triangle_type = \"Equilateral\"\n",
    "elif side1 == side2 or side1 == side3 or side2 == side3:\n",
    "    triangle_type = \"Isosceles\"\n",
    "else:\n",
    "    triangle_type = \"Scalene\"\n",
    "\n",
    "print(\"The triangle is\", triangle_type)"
   ]
  },
  {
   "cell_type": "code",
   "execution_count": null,
   "id": "1dc4296f-a165-4a68-9b73-9b1db98c4cf2",
   "metadata": {},
   "outputs": [],
   "source": []
  },
  {
   "cell_type": "markdown",
   "id": "199c7896-c746-4b20-957d-b9b5f25b5c0b",
   "metadata": {},
   "source": [
    "# 7. Build a program that determines the largest of three given numbers."
   ]
  },
  {
   "cell_type": "code",
   "execution_count": null,
   "id": "719ad64e-5368-47f4-bc2c-37b2a2850e71",
   "metadata": {},
   "outputs": [],
   "source": [
    "# Ans: 7\n",
    "\n",
    "#input:  get three numbers from the user\n",
    "num1 = float(input(\"Enter the first number: \"))\n",
    "num2 = float(input(\"Enter the second number: \"))\n",
    "num3 = float(input(\"Enter the third number: \"))\n",
    "\n",
    "# determine the largest number among the three\n",
    "if num1 >= num2 and num1 >= num3:\n",
    "    largest = num1\n",
    "elif num2 >= num1 and num2 >= num3:\n",
    "    largest = num2\n",
    "else:\n",
    "    largest = num3\n",
    "\n",
    "print(\"The largest number is\", largest)"
   ]
  },
  {
   "cell_type": "code",
   "execution_count": null,
   "id": "2189b443-4671-4eb3-9407-c9315c408f04",
   "metadata": {},
   "outputs": [],
   "source": []
  },
  {
   "cell_type": "markdown",
   "id": "f9701e93-ec3c-4f6c-b8c0-c989a45d5c07",
   "metadata": {},
   "source": [
    "# 8. Develop a program that checks whether a character is a vowel or a consonant."
   ]
  },
  {
   "cell_type": "code",
   "execution_count": null,
   "id": "93d21cb2-ec09-4d57-ab0e-a58c001bf6da",
   "metadata": {},
   "outputs": [],
   "source": [
    "# Ans: 8 \n",
    "\n",
    "# input: get a character from the user\n",
    "char = input(\"Enter a character: \")\n",
    "\n",
    "# check if it's a vowel or a consonant\n",
    "if char in \"AEIOUaeiou\":\n",
    "    result = \"Vowel\"\n",
    "else:\n",
    "    result = \"Consonant\"\n",
    "\n",
    "print(\"The character is a\", result)"
   ]
  },
  {
   "cell_type": "code",
   "execution_count": null,
   "id": "436d6943-fee0-4835-9f0a-c4915e1d2c58",
   "metadata": {},
   "outputs": [],
   "source": []
  },
  {
   "cell_type": "markdown",
   "id": "6b3f51a3-855d-4141-bc7b-9e4612119e6d",
   "metadata": {},
   "source": [
    "# 9. Create a program to calculate the total cost of a shopping cart based on discounts."
   ]
  },
  {
   "cell_type": "code",
   "execution_count": null,
   "id": "7ec4fcf6-2d0a-494d-bb6e-1250f4e55e60",
   "metadata": {},
   "outputs": [],
   "source": [
    "# Ans: 9 \n",
    "\n",
    "# input: get the total cost of items in the shopping cart\n",
    "total_cost = float(input(\"Enter the total cost of items: \"))\n",
    "\n",
    "# calculate the total cost after applying a 10% discount\n",
    "if total_cost >= 100:\n",
    "    discount = 0.10\n",
    "else:\n",
    "    discount = 0\n",
    "\n",
    "discounted_cost = total_cost - (total_cost * discount)\n",
    "\n",
    "print(\"Total cost after discount is\", discounted_cost)"
   ]
  },
  {
   "cell_type": "code",
   "execution_count": null,
   "id": "f1247828-1bdb-4255-89d9-f4b8456d1dbc",
   "metadata": {},
   "outputs": [],
   "source": []
  },
  {
   "cell_type": "markdown",
   "id": "7eed4e3a-98e1-453e-9867-9afd52ac24a4",
   "metadata": {},
   "source": [
    "# 10. Write a program that checks if a given number is even or odd."
   ]
  },
  {
   "cell_type": "code",
   "execution_count": null,
   "id": "b22babc6-8d7e-49a2-89cc-c05157cd72dc",
   "metadata": {},
   "outputs": [],
   "source": [
    "# Ans: 10 \n",
    "\n",
    "# input: get a number from the user\n",
    "number = int(input(\"Enter a number: \"))\n",
    "\n",
    "# check if it's even or odd\n",
    "if number % 2 == 0:\n",
    "    result = \"Even\"\n",
    "else:\n",
    "    result = \"Odd\"\n",
    "\n",
    "print(\"The number is\", result)"
   ]
  },
  {
   "cell_type": "code",
   "execution_count": null,
   "id": "44f65279-a744-4beb-aa3d-f0b906a76788",
   "metadata": {},
   "outputs": [],
   "source": []
  },
  {
   "cell_type": "code",
   "execution_count": null,
   "id": "e495fb33-0393-49a1-a6d4-cd940086a38b",
   "metadata": {},
   "outputs": [],
   "source": []
  },
  {
   "cell_type": "markdown",
   "id": "a602e65e-8b56-48ee-8970-6fba44f4edd7",
   "metadata": {},
   "source": [
    "# **Intermediate Level:**"
   ]
  },
  {
   "cell_type": "markdown",
   "id": "8a65671a-640e-4220-95aa-2993b476095b",
   "metadata": {},
   "source": [
    "# 11. Write a program that calculates the roots of a quadratic equation ."
   ]
  },
  {
   "cell_type": "code",
   "execution_count": null,
   "id": "71bc136a-956c-49fb-b681-dffd90218268",
   "metadata": {},
   "outputs": [],
   "source": [
    "# Ans: 11\n",
    "\n",
    "import math\n",
    "\n",
    "# input: get the coefficients a, b, and c from the user\n",
    "a = float(input(\"Enter coefficient a: \"))\n",
    "b = float(input(\"Enter coefficient b: \"))\n",
    "c = float(input(\"Enter coefficient c: \"))\n",
    "\n",
    "# calculate the discriminant\n",
    "discriminant = b**2 - 4*a*c\n",
    "\n",
    "# calculate the roots\n",
    "if discriminant > 0:\n",
    "    root1 = (-b + math.sqrt(discriminant)) / (2*a)\n",
    "    root2 = (-b - math.sqrt(discriminant)) / (2*a)\n",
    "    result = \"Two distinct real roots\"\n",
    "elif discriminant == 0:\n",
    "    root1 = root2 = -b / (2*a)\n",
    "    result = \"One real root (repeated)\"\n",
    "else:\n",
    "    real_part = -b / (2*a)\n",
    "    imaginary_part = math.sqrt(-discriminant) / (2*a)\n",
    "    root1 = f\"{real_part} + {imaginary_part}i\"\n",
    "    root2 = f\"{real_part} - {imaginary_part}i\"\n",
    "    result = \"Two complex roots\"\n",
    "\n",
    "print(f\"The equation has {result}:\")\n",
    "print(f\"Root 1: {root1}\")\n",
    "print(f\"Root 2: {root2}\")"
   ]
  },
  {
   "cell_type": "code",
   "execution_count": null,
   "id": "74d13ed5-9488-4011-8c6e-255e076073ff",
   "metadata": {},
   "outputs": [],
   "source": []
  },
  {
   "cell_type": "markdown",
   "id": "163e8cff-e5cd-4e64-befe-500287692810",
   "metadata": {},
   "source": [
    "# 12. Create a program that determines the day of the week based on the day number (1-7)."
   ]
  },
  {
   "cell_type": "code",
   "execution_count": null,
   "id": "03a5298d-ac73-4a84-98a2-1bbd4b06cdfd",
   "metadata": {},
   "outputs": [],
   "source": [
    "# Ans: 12\n",
    "\n",
    "# input: Get a day number (1-7) from the user\n",
    "day_number = int(input(\"Enter a day number (1-7): \"))\n",
    "\n",
    "# determine the day of the week\n",
    "if day_number == 1:\n",
    "    day_name = \"Monday\"\n",
    "elif day_number == 2:\n",
    "    day_name = \"Tuesday\"\n",
    "elif day_number == 3:\n",
    "    day_name = \"Wednesday\"\n",
    "elif day_number == 4:\n",
    "    day_name = \"Thursday\"\n",
    "elif day_number == 5:\n",
    "    day_name = \"Friday\"\n",
    "elif day_number == 6:\n",
    "    day_name = \"Saturday\"\n",
    "elif day_number == 7:\n",
    "    day_name = \"Sunday\"\n",
    "else:\n",
    "    day_name = \"Invalid day number\"\n",
    "\n",
    "print(f\"Day {day_number} is {day_name}.\")"
   ]
  },
  {
   "cell_type": "code",
   "execution_count": null,
   "id": "6379d5fa-9314-4fdf-a1bd-b1db8867922d",
   "metadata": {},
   "outputs": [],
   "source": []
  },
  {
   "cell_type": "markdown",
   "id": "501cb9df-7726-4237-bd38-c8e224a4284a",
   "metadata": {},
   "source": [
    "# 13. Develop a program that calculates the factorial of a given number using recursion."
   ]
  },
  {
   "cell_type": "code",
   "execution_count": null,
   "id": "d4d1e711-0bb9-4e23-9853-e8d1b4172152",
   "metadata": {},
   "outputs": [],
   "source": [
    "# Ans: 13 \n",
    "\n",
    "# function to calculate factorial using recursion \n",
    "def factorial(n):\n",
    "    if n == 0:\n",
    "        return 1\n",
    "    else:\n",
    "        return n*factorial(n-1)\n",
    "    \n",
    "# get input from the user\n",
    "num = int(input('Enter a number:'))\n",
    "\n",
    "# calculate and display the factorial \n",
    "fact = factorial(num)\n",
    "print(f\"the factorial of {num} is {fact}.\")"
   ]
  },
  {
   "cell_type": "code",
   "execution_count": null,
   "id": "bb1b0e71-94af-4848-89aa-ffd6110a5dce",
   "metadata": {},
   "outputs": [],
   "source": []
  },
  {
   "cell_type": "markdown",
   "id": "585d17a8-6ddc-4900-a4fe-f2b7c587b074",
   "metadata": {},
   "source": [
    "# 14. Write a program to find the largest among three numbers without using the `max()` function."
   ]
  },
  {
   "cell_type": "code",
   "execution_count": null,
   "id": "9f546250-2e8e-4d34-877f-16b0f23a8f2e",
   "metadata": {},
   "outputs": [],
   "source": [
    "# Ans: 14 \n",
    "\n",
    "# get three numbers from the user\n",
    "num1 = float(input('Enter the 1st Number'))\n",
    "num2 = float(input('Enter the 2nd Number'))\n",
    "num3 = float(input('Enter the 3rd Number'))\n",
    "\n",
    "# find the largest among the three numbers\n",
    "if num1 >= num2 and num1 >= num3:\n",
    "    largest = num1\n",
    "elif num2 >= num1 and num2 >= num3:\n",
    "    largest = num2\n",
    "else: \n",
    "    largest = num3\n",
    "    \n",
    "print('The largest number is:', largest)"
   ]
  },
  {
   "cell_type": "code",
   "execution_count": null,
   "id": "ce79ab1c-cacf-444c-b4de-d48b86a18544",
   "metadata": {},
   "outputs": [],
   "source": []
  },
  {
   "cell_type": "markdown",
   "id": "fec27833-700b-4f93-bacb-8bef30eb4c5c",
   "metadata": {},
   "source": [
    "# 15. Create a program that simulates a basic ATM transaction menu."
   ]
  },
  {
   "cell_type": "code",
   "execution_count": null,
   "id": "8692dd95-71a6-4f37-975b-9ca931ad1b48",
   "metadata": {},
   "outputs": [],
   "source": [
    "# Ans: 15 \n",
    "\n",
    "# atm simulation\n",
    "balance = 1000       # initial balance\n",
    "\n",
    "while True:\n",
    "    print('Welcome to the SBI ATM')\n",
    "    print('1. Check Balance')\n",
    "    print('2. Withdraw Money')\n",
    "    print('3. Deposot Money')\n",
    "    print('4. Exit')\n",
    "    \n",
    "    choice = int(input('Enter your choice: '))\n",
    "    if choice == 1:\n",
    "        print('Your Balance is ${balance}')\n",
    "    elif choice == 2:\n",
    "        amount = float(input('Enter the Withdrawal Amount: '))\n",
    "        if  amount <= balance:\n",
    "            balance -= amount\n",
    "            print(f\"Withdrew ${amount}. New balance is ${balance}\")\n",
    "        else:\n",
    "            print(\"Insufficient balance.\")\n",
    "    elif choice == 3:\n",
    "        amount = float(input(\"Enter the deposit amount: \"))\n",
    "        balance += amount\n",
    "        print(f\"Deposited ${amount}. New balance is ${balance}\")\n",
    "    elif choice == 4:\n",
    "        print(\"Thank you for using the ATM.\")\n",
    "        break\n",
    "    else:\n",
    "        print(\"Invalid choice. Please try again.\")"
   ]
  },
  {
   "cell_type": "code",
   "execution_count": null,
   "id": "b2973c21-c37a-404b-9917-46c186697259",
   "metadata": {},
   "outputs": [],
   "source": []
  },
  {
   "cell_type": "markdown",
   "id": "740a805e-e184-4898-b795-a4c7c8e3fba4",
   "metadata": {},
   "source": [
    "# 16. Build a program that checks if a given string is a palindrome or not."
   ]
  },
  {
   "cell_type": "code",
   "execution_count": null,
   "id": "5cebf871-8a6b-4881-9c60-bef0f84df6f2",
   "metadata": {},
   "outputs": [],
   "source": [
    "# Ans: 16 \n",
    "\n",
    "# get a string from the user\n",
    "text = input(\"Enter a string: \")\n",
    "\n",
    "# remove spaces and convert to lowercase for case-insensitive comparison\n",
    "text = text.replace(\" \", \"\").lower()\n",
    "\n",
    "# check if it's a palindrome\n",
    "if text == text[::-1]:\n",
    "    result = \"Palindrome\"\n",
    "else:\n",
    "    result = \"Not a palindrome\"\n",
    "\n",
    "print(f\"The string is {result}.\")"
   ]
  },
  {
   "cell_type": "code",
   "execution_count": null,
   "id": "9cc76de1-9af6-4b74-8afd-5fbfd5cecfb5",
   "metadata": {},
   "outputs": [],
   "source": []
  },
  {
   "cell_type": "markdown",
   "id": "b1fecbfe-98c2-4127-8af7-cc5743ca43ce",
   "metadata": {},
   "source": [
    "# 17. Write a program that calculates the average of a list of numbers, excluding the smallest and largest values."
   ]
  },
  {
   "cell_type": "code",
   "execution_count": null,
   "id": "9134a83c-e100-49ad-9da9-d3b0f292e9b6",
   "metadata": {},
   "outputs": [],
   "source": [
    "# Ans: 17 \n",
    "\n",
    "# get a list of numbers from the user\n",
    "numbers = [float(x) for x in input(\"Enter a list of numbers separated by spaces: \").split()]\n",
    "\n",
    "# remove the smallest and largest values\n",
    "numbers.remove(min(numbers))\n",
    "numbers.remove(max(numbers))\n",
    "\n",
    "# calculate and display the average of the remaining values\n",
    "average = sum(numbers) / len(numbers)\n",
    "print(f\"The average (excluding smallest and largest) is {average}.\")"
   ]
  },
  {
   "cell_type": "code",
   "execution_count": null,
   "id": "8d8c4206-6cfd-4bdc-b4d1-a7909d3a1b0a",
   "metadata": {},
   "outputs": [],
   "source": []
  },
  {
   "cell_type": "markdown",
   "id": "3b3f91be-841f-4d6a-9096-199983e6c2fc",
   "metadata": {},
   "source": [
    "# 18. Develop a program that converts a given temperature from Celsius to Fahrenheit."
   ]
  },
  {
   "cell_type": "code",
   "execution_count": null,
   "id": "c1e53fda-2d9f-409f-b902-187f65ca69ee",
   "metadata": {},
   "outputs": [],
   "source": [
    "# Ans: 18 \n",
    "\n",
    "# get the temperature in Celsius from the user\n",
    "celsius = float(input(\"Enter the temperature in Celsius: \"))\n",
    "\n",
    "# convert Celsius to Fahrenheit\n",
    "fahrenheit = (celsius * 9/5) + 32\n",
    "\n",
    "print(f\"{celsius}°C is equal to {fahrenheit}°F.\")"
   ]
  },
  {
   "cell_type": "code",
   "execution_count": null,
   "id": "846cbc7c-e95d-4a53-b6ff-160441dc1830",
   "metadata": {},
   "outputs": [],
   "source": []
  },
  {
   "cell_type": "markdown",
   "id": "e4c2a68a-5095-411b-a356-02418ceca00a",
   "metadata": {},
   "source": [
    "# 19. Create a program that simulates a basic calculator for addition, subtraction, multiplication, and division."
   ]
  },
  {
   "cell_type": "code",
   "execution_count": null,
   "id": "855dc1de-08f6-478a-aafa-92efeb5053a7",
   "metadata": {},
   "outputs": [],
   "source": [
    "# Ans: 19 \n",
    "\n",
    "# get two numbers and an operation choice from the user\n",
    "num1 = float(input(\"Enter the first number: \"))\n",
    "num2 = float(input(\"Enter the second number: \"))\n",
    "operation = input(\"Enter the operation (+, -, *, /): \")\n",
    "\n",
    "# perform the selected operation\n",
    "if operation == \"+\":\n",
    "    result = num1 + num2\n",
    "elif operation == \"-\":\n",
    "    result = num1 - num2\n",
    "elif operation == \"*\":\n",
    "    result = num1 * num2\n",
    "elif operation == \"/\":\n",
    "    if num2 != 0:\n",
    "        result = num1 / num2\n",
    "    else:\n",
    "        result = \"Division by zero is not allowed\"\n",
    "else:\n",
    "    result = \"Invalid operation\"\n",
    "\n",
    "print(f\"Result: {result}\")"
   ]
  },
  {
   "cell_type": "code",
   "execution_count": null,
   "id": "1730fd54-0c73-4dcc-9175-231ba9f2936e",
   "metadata": {},
   "outputs": [],
   "source": []
  },
  {
   "cell_type": "code",
   "execution_count": null,
   "id": "16e709ae-7020-42fb-969e-5c6deb118720",
   "metadata": {},
   "outputs": [],
   "source": []
  },
  {
   "cell_type": "markdown",
   "id": "1f71afa8-66f2-47bc-90f2-2057f18fde10",
   "metadata": {},
   "source": [
    "# **Advanced Level:**"
   ]
  },
  {
   "cell_type": "markdown",
   "id": "43217711-b50e-4d1b-9572-da7987169552",
   "metadata": {},
   "source": [
    "# 21. Create a program that calculates the income tax based on the user's income and tax brackets."
   ]
  },
  {
   "cell_type": "code",
   "execution_count": null,
   "id": "5ec4ff84-6461-4be0-91c1-a3c0f0ee0a37",
   "metadata": {},
   "outputs": [],
   "source": [
    "# Ans: 21 \n",
    "\n",
    "# get the user's income\n",
    "income = float(input(\"Enter your income: \"))\n",
    "\n",
    "# implement a tax bracket system and calculate income tax\n",
    "if income <= 10000:\n",
    "    tax = 0.05 * income\n",
    "elif income <= 50000:\n",
    "    tax = 500 + 0.1 * (income - 10000)\n",
    "else:\n",
    "    tax = 5000 + 0.2 * (income - 50000)\n",
    "\n",
    "print(f\"Your income tax is: ${tax}\")"
   ]
  },
  {
   "cell_type": "code",
   "execution_count": null,
   "id": "4674d24c-ebfe-47b9-bee7-84ccc6684f7e",
   "metadata": {},
   "outputs": [],
   "source": []
  },
  {
   "cell_type": "markdown",
   "id": "437b2049-f1e4-4d29-a340-9b2eb0bf29f4",
   "metadata": {},
   "source": [
    "# 22. Write a program that simulates a rock-paper-scissors game against the computer."
   ]
  },
  {
   "cell_type": "code",
   "execution_count": null,
   "id": "e0acfee1-2e53-494a-a097-727bc150fc0a",
   "metadata": {},
   "outputs": [],
   "source": [
    "# Ans: 22\n",
    "\n",
    "import random\n",
    "\n",
    "# get user's choice\n",
    "user_choice = input(\"Enter your choice (rock, paper, or scissors): \").lower()\n",
    "\n",
    "# generate a random choice for the computer\n",
    "choices = [\"rock\", \"paper\", \"scissors\"]\n",
    "computer_choice = random.choice(choices)\n",
    "\n",
    "# determine the winner\n",
    "if user_choice == computer_choice:\n",
    "    result = \"It's a tie!\"\n",
    "elif (\n",
    "    (user_choice == \"rock\" and computer_choice == \"scissors\")\n",
    "    or (user_choice == \"scissors\" and computer_choice == \"paper\")\n",
    "    or (user_choice == \"paper\" and computer_choice == \"rock\")\n",
    "):\n",
    "    result = \"You win!\"\n",
    "else:\n",
    "    result = \"Computer wins!\"\n",
    "\n",
    "print(f\"Computer chose {computer_choice}. {result}\")"
   ]
  },
  {
   "cell_type": "code",
   "execution_count": null,
   "id": "043b50be-abb8-485e-ae9b-90f15e08ec5f",
   "metadata": {},
   "outputs": [],
   "source": []
  },
  {
   "cell_type": "markdown",
   "id": "1c945de1-8772-4b92-9c5e-7beea296e3b9",
   "metadata": {},
   "source": [
    "# 23. Develop a program that generates a random password based on user preferences (length, complexity)."
   ]
  },
  {
   "cell_type": "code",
   "execution_count": null,
   "id": "21fd57b4-8bb8-4839-9f90-e83e732a7087",
   "metadata": {},
   "outputs": [],
   "source": [
    "# Ans: 23\n",
    "\n",
    "import random\n",
    "import string\n",
    "\n",
    "# get password length and complexity preference from the user\n",
    "length = int(input(\"Enter password length: \"))\n",
    "use_digits = input(\"Include digits (yes/no): \").lower() == \"yes\"\n",
    "use_special_chars = input(\"Include special characters (yes/no): \").lower() == \"yes\"\n",
    "\n",
    "# define character sets\n",
    "chars = string.ascii_letters\n",
    "if use_digits:\n",
    "    chars += string.digits\n",
    "if use_special_chars:\n",
    "    chars += string.punctuation\n",
    "\n",
    "# generate a random password\n",
    "password = \"\".join(random.choice(chars) for _ in range(length))\n",
    "\n",
    "print(f\"Generated Password: {password}\")"
   ]
  },
  {
   "cell_type": "code",
   "execution_count": null,
   "id": "4db91e37-e84b-4f65-9aa5-cbb5ff7aa088",
   "metadata": {},
   "outputs": [],
   "source": []
  },
  {
   "cell_type": "markdown",
   "id": "cc4be954-90ed-46d7-9878-2fa8df5dc105",
   "metadata": {},
   "source": [
    "# 24. Create a program that implements a simple text-based adventure game with branching scenarios."
   ]
  },
  {
   "cell_type": "code",
   "execution_count": null,
   "id": "3f23605d-8a17-4d9f-8bd2-fe77ea7c4be9",
   "metadata": {},
   "outputs": [],
   "source": [
    "# Ans: 24 \n",
    "\n",
    "# implement a simple text-based adventure game with branching scenarios\n",
    "print(\"Welcome to the Adventure Game!\")\n",
    "\n",
    "print(\"You find yourself in a dark forest. You see a path to the left and a cave to the right.\")\n",
    "choice1 = input(\"Which way do you go? (left/right): \").lower()\n",
    "\n",
    "if choice1 == \"left\":\n",
    "    print(\"You follow the path and discover a hidden treasure chest!\")\n",
    "else:\n",
    "    print(\"You enter the cave and encounter a sleeping dragon.\")\n",
    "    choice2 = input(\"Do you try to sneak past the dragon or face it? (sneak/face): \").lower()\n",
    "    if choice2 == \"sneak\":\n",
    "        print(\"You successfully sneak past the dragon and find a stash of gold!\")\n",
    "    else:\n",
    "        print(\"The dragon wakes up and... Game Over!\")\n",
    "\n",
    "print(\"Thanks for playing!\")"
   ]
  },
  {
   "cell_type": "code",
   "execution_count": null,
   "id": "f2689a0f-0bf8-4e1c-957f-e33f584831f8",
   "metadata": {},
   "outputs": [],
   "source": []
  },
  {
   "cell_type": "markdown",
   "id": "e644195f-f636-4d2d-86cb-c00fc9972be5",
   "metadata": {},
   "source": [
    "# 25. Build a program that solves a linear equation for x, considering different cases."
   ]
  },
  {
   "cell_type": "code",
   "execution_count": null,
   "id": "9e7a065b-bc3f-4ea5-a0c5-1f4d6eec80ae",
   "metadata": {},
   "outputs": [],
   "source": [
    "# Ans: 25 \n",
    "\n",
    "# get coefficients a and b from the user\n",
    "a = float(input(\"Enter coefficient a: \"))\n",
    "b = float(input(\"Enter coefficient b: \"))\n",
    "\n",
    "# solve the linear equation ax + b = 0\n",
    "if a == 0:\n",
    "    if b == 0:\n",
    "        result = \"Infinite solutions\"\n",
    "    else:\n",
    "        result = \"No solution\"\n",
    "else:\n",
    "    x = -b / a\n",
    "    result = f\"The solution is x = {x}\"\n",
    "\n",
    "print(result)"
   ]
  },
  {
   "cell_type": "code",
   "execution_count": null,
   "id": "97af375b-f608-4fff-8348-ee5c24bf8a32",
   "metadata": {},
   "outputs": [],
   "source": []
  },
  {
   "cell_type": "markdown",
   "id": "03cabe60-098e-465b-86d6-ee1a1d8887c6",
   "metadata": {},
   "source": [
    "# 26. Write a program that simulates a basic quiz game with multiple-choice questions and scoring."
   ]
  },
  {
   "cell_type": "code",
   "execution_count": null,
   "id": "9f080b78-40e0-43cd-ab43-c20ccb0f04d3",
   "metadata": {},
   "outputs": [],
   "source": [
    "# Ans: 26 \n",
    "\n",
    "# implement a simple quiz game with multiple-choice questions and scoring\n",
    "score = 0\n",
    "\n",
    "# Question 1\n",
    "print(\"Question 1: What is the capital of France?\")\n",
    "answer1 = input(\"a) Paris\\nb) London\\nc) Rome\\nYour answer: \").lower()\n",
    "if answer1 == \"a\":\n",
    "    score += 1\n",
    "\n",
    "# Question 2\n",
    "print(\"Question 2: What is the largest planet in our solar system?\")\n",
    "answer2 = input(\"a) Earth\\nb) Mars\\nc) Jupiter\\nYour answer: \").lower()\n",
    "if answer2 == \"c\":\n",
    "    score += 1\n",
    "\n",
    "print(f\"Your score is {score}/2\")"
   ]
  },
  {
   "cell_type": "code",
   "execution_count": null,
   "id": "b8d6d674-e152-488f-9623-3170e76870c7",
   "metadata": {},
   "outputs": [],
   "source": []
  },
  {
   "cell_type": "markdown",
   "id": "33aac5da-04e9-49b0-a1fd-7b5a144d248d",
   "metadata": {},
   "source": [
    "# 27. Develop a program that determines whether a given year is a prime number or not."
   ]
  },
  {
   "cell_type": "code",
   "execution_count": null,
   "id": "dedf3a98-b49f-49c5-804c-1176bb967b39",
   "metadata": {},
   "outputs": [],
   "source": [
    "# Ans: 27\n",
    "\n",
    "# get a year from the user\n",
    "year = int(input(\"Enter a year: \"))\n",
    "\n",
    "# check if it's a prime year (divisible only by 1 and itself)\n",
    "is_prime = all(year % i != 0 for i in range(2, year))\n",
    "\n",
    "if is_prime:\n",
    "    result = \"Prime year\"\n",
    "else:\n",
    "    result = \"Not a prime year\"\n",
    "\n",
    "print(result)"
   ]
  },
  {
   "cell_type": "code",
   "execution_count": null,
   "id": "cd1a9c8a-2ef7-42fe-95f2-891534b8c063",
   "metadata": {},
   "outputs": [],
   "source": []
  },
  {
   "cell_type": "markdown",
   "id": "7a9d7316-9d49-49af-b60e-58e9064df17a",
   "metadata": {},
   "source": [
    "# 28. Create a program that sorts three numbers in ascending order using conditional statements."
   ]
  },
  {
   "cell_type": "code",
   "execution_count": null,
   "id": "7ab308ac-6edd-4744-a444-3f1fe17ce101",
   "metadata": {},
   "outputs": [],
   "source": [
    "# Ans: 28 \n",
    "\n",
    "# get three numbers from the user\n",
    "num1 = float(input(\"Enter the first number: \"))\n",
    "num2 = float(input(\"Enter the second number: \"))\n",
    "num3 = float(input(\"Enter the third number: \"))\n",
    "\n",
    "# sort the numbers in ascending order using conditional statements\n",
    "if num1 <= num2 <= num3:\n",
    "    sorted_numbers = [num1, num2, num3]\n",
    "elif num1 <= num3 <= num2:\n",
    "    sorted_numbers = [num1, num3, num2]\n",
    "elif num2 <= num1 <= num3:\n",
    "    sorted_numbers = [num2, num1, num3]\n",
    "elif num2 <= num3 <= num1:\n",
    "    sorted_numbers = [num2, num3, num1]\n",
    "elif num3 <= num1 <= num2:\n",
    "    sorted_numbers = [num3, num1, num2]\n",
    "else:\n",
    "    sorted_numbers = [num3, num2, num1]\n",
    "\n",
    "print(\"Sorted numbers:\", sorted_numbers)"
   ]
  },
  {
   "cell_type": "code",
   "execution_count": null,
   "id": "2da56047-b830-49d4-9281-e404781af8c1",
   "metadata": {},
   "outputs": [],
   "source": []
  },
  {
   "cell_type": "markdown",
   "id": "47ff2246-6282-48a0-bda0-9ff9d2a4250a",
   "metadata": {},
   "source": [
    "# 29. Build a program that determines the roots of a quartic equation using numerical methods."
   ]
  },
  {
   "cell_type": "code",
   "execution_count": null,
   "id": "6c7796c5-3d27-4359-8e74-75d663177dfa",
   "metadata": {},
   "outputs": [],
   "source": [
    "# Ans: 29\n",
    "\n",
    "import numpy as np\n",
    "\n",
    "# Define the coefficients of the quartic equation: ax^4 + bx^3 + cx^2 + dx + e = 0\n",
    "a = float(input(\"Enter coefficient a: \"))\n",
    "b = float(input(\"Enter coefficient b: \"))\n",
    "c = float(input(\"Enter coefficient c: \"))\n",
    "d = float(input(\"Enter coefficient d: \"))\n",
    "e = float(input(\"Enter coefficient e: \"))\n",
    "\n",
    "# Define a function to represent the quartic equation\n",
    "def quartic(x):\n",
    "    return a * x**4 + b * x**3 + c * x**2 + d * x + e\n",
    "\n",
    "# Use NumPy's roots function to find the roots\n",
    "roots = np.roots([a, b, c, d, e])\n",
    "\n",
    "# Display the roots\n",
    "print(\"Roots of the quartic equation:\")\n",
    "for i, root in enumerate(roots):\n",
    "    print(f\"Root {i + 1}: {root:.4f}\")"
   ]
  },
  {
   "cell_type": "code",
   "execution_count": null,
   "id": "1d144b3a-3474-4a8b-bd04-1c61cacf6f37",
   "metadata": {},
   "outputs": [],
   "source": []
  },
  {
   "cell_type": "markdown",
   "id": "a85388f3-bc99-4786-ae22-497f252d6b4a",
   "metadata": {},
   "source": [
    "# 30. Write a program that calculates the BMI (Body Mass Index) and provides health recommendations based on the user's input."
   ]
  },
  {
   "cell_type": "code",
   "execution_count": null,
   "id": "0ecbb352-a460-402f-a869-c6c92c2538b1",
   "metadata": {},
   "outputs": [],
   "source": [
    "# Ans: 30 \n",
    "\n",
    "# Input: Get the user's weight (in kilograms) and height (in meters)\n",
    "weight = float(input(\"Enter your weight (kg): \"))\n",
    "height = float(input(\"Enter your height (m): \"))\n",
    "\n",
    "# Calculate BMI (Body Mass Index)\n",
    "\n",
    "bmi = weight / (height ** 2)\n",
    "\n",
    "# Provide health recommendations based on BMI\n",
    "if bmi < 18.5:\n",
    "    result = \"Underweight\"\n",
    "    recommendation = \"You may need to gain some weight.\"\n",
    "elif 18.5 <= bmi < 24.9:\n",
    "    result = \"Normal weight\"\n",
    "    recommendation = \"You have a healthy weight.\"\n",
    "elif 25 <= bmi < 29.9:\n",
    "    result = \"Overweight\"\n",
    "    recommendation = \"Consider losing some weight for better health.\"\n",
    "else:\n",
    "    result = \"Obese\"\n",
    "    recommendation = \"It's important to consult a healthcare professional.\"\n",
    "\n",
    "print(f\"Your BMI is {bmi:.2f}. You are in the {result} category. {recommendation}\")"
   ]
  },
  {
   "cell_type": "code",
   "execution_count": null,
   "id": "a2127960-f96c-4c9e-81da-bbf4e24ed283",
   "metadata": {},
   "outputs": [],
   "source": []
  },
  {
   "cell_type": "code",
   "execution_count": null,
   "id": "bec20fe9-9bdc-4ea7-94ea-9f311f51de32",
   "metadata": {},
   "outputs": [],
   "source": []
  },
  {
   "cell_type": "markdown",
   "id": "9ec1c81c-0ea2-4ac1-806c-c915068b2ee8",
   "metadata": {},
   "source": [
    "# **Challenge Level:**"
   ]
  },
  {
   "cell_type": "markdown",
   "id": "93b22fe0-518f-4887-a527-dac99903096f",
   "metadata": {},
   "source": [
    "# 31. Create a program that validates a password based on complexity rules (length, characters, etc.)."
   ]
  },
  {
   "cell_type": "code",
   "execution_count": null,
   "id": "708f89f6-7bf6-4df9-8b76-98fbff81acf9",
   "metadata": {},
   "outputs": [],
   "source": [
    "# Ans: 31\n",
    "\n",
    "# implement password validation\n",
    "password = input(\"Enter your password: \")\n",
    "\n",
    "# check password complexity\n",
    "if len(password) >= 8 and any(char.isalpha() for char in password) and any(char.isdigit() for char in password):\n",
    "    print(\"Password is valid.\")\n",
    "else:\n",
    "    print(\"Password is not valid. It must be at least 8 characters and include letters and digits.\")"
   ]
  },
  {
   "cell_type": "code",
   "execution_count": null,
   "id": "eedbe2d6-1c54-4378-8c3b-458255d90d2c",
   "metadata": {},
   "outputs": [],
   "source": []
  },
  {
   "cell_type": "markdown",
   "id": "4bde7f63-a437-4053-8431-0f3ba3f78e5c",
   "metadata": {},
   "source": [
    "# 32. Develop a program that performs matrix addition and subtraction based on user input."
   ]
  },
  {
   "cell_type": "code",
   "execution_count": null,
   "id": "43d0c61c-f693-4dbc-9cef-01888fda359a",
   "metadata": {},
   "outputs": [],
   "source": [
    "## Ans: 32\n",
    "\n",
    "# implement matrix addition and subtraction based on user input\n",
    "import numpy as np\n",
    "\n",
    "# get matrix dimensions from the user\n",
    "rows = int(input(\"Enter the number of rows: \"))\n",
    "cols = int(input(\"Enter the number of columns: \"))\n",
    "\n",
    "matrix1 = np.zeros((rows, cols))\n",
    "matrix2 = np.zeros((rows, cols))\n",
    "\n",
    "print(\"Enter elements of the first matrix:\")\n",
    "for i in range(rows):\n",
    "    for j in range(cols):\n",
    "        matrix1[i][j] = float(input(f\"Enter element [{i}][{j}]: \"))\n",
    "\n",
    "print(\"Enter elements of the second matrix:\")\n",
    "for i in range(rows):\n",
    "    for j in range(cols):\n",
    "        matrix2[i][j] = float(input(f\"Enter element [{i}][{j}]: \"))\n",
    "\n",
    "# perform matrix operations\n",
    "matrix_sum = matrix1 + matrix2\n",
    "matrix_diff = matrix1 - matrix2\n",
    "\n",
    "print(\"Matrix Sum:\")\n",
    "print(matrix_sum)\n",
    "\n",
    "print(\"Matrix Difference:\")\n",
    "print(matrix_diff)"
   ]
  },
  {
   "cell_type": "code",
   "execution_count": null,
   "id": "51e48fca-92fa-4cf0-9507-11dcb4cdc51d",
   "metadata": {},
   "outputs": [],
   "source": []
  },
  {
   "cell_type": "markdown",
   "id": "8d49bd7e-da03-46dd-ac57-7aea3795f011",
   "metadata": {},
   "source": [
    "# 33. Write a program that calculates the greatest common divisor (GCD) of two numbers using the Euclidean algorithm."
   ]
  },
  {
   "cell_type": "code",
   "execution_count": null,
   "id": "9689dd71-6934-4da8-b62d-4372f33ad301",
   "metadata": {},
   "outputs": [],
   "source": [
    "# Ans: 33\n",
    "\n",
    "# implement the Euclidean algorithm to calculate the GCD of two numbers\n",
    "def gcd(a, b):\n",
    "    while b:\n",
    "        a, b = b, a % b\n",
    "    return a\n",
    "\n",
    "num1 = int(input(\"Enter the first number: \"))\n",
    "num2 = int(input(\"Enter the second number: \"))\n",
    "\n",
    "result = gcd(num1, num2)\n",
    "print(f\"The GCD of {num1} and {num2} is {result}\")"
   ]
  },
  {
   "cell_type": "code",
   "execution_count": null,
   "id": "4980031f-6b28-4f98-b0a4-338e8708d501",
   "metadata": {},
   "outputs": [],
   "source": []
  },
  {
   "cell_type": "markdown",
   "id": "0880ae74-aaa6-4631-b09c-7ce706d085c3",
   "metadata": {},
   "source": [
    "# 34. Build a program that performs matrix multiplication using nested loops and conditional statements."
   ]
  },
  {
   "cell_type": "code",
   "execution_count": null,
   "id": "9b655dba-13d2-4441-86fd-378d0cc5d694",
   "metadata": {},
   "outputs": [],
   "source": [
    "# Ans: 34 \n",
    "\n",
    "# get matrix dimensions from the user\n",
    "rows1 = int(input(\"Enter the number of rows for the first matrix: \"))\n",
    "cols1 = int(input(\"Enter the number of columns for the first matrix: \"))\n",
    "rows2 = int(input(\"Enter the number of rows for the second matrix: \"))\n",
    "cols2 = int(input(\"Enter the number of columns for the second matrix: \"))\n",
    "\n",
    "# check if multiplication is possible\n",
    "if cols1 != rows2:\n",
    "    print(\"Matrix multiplication is not possible.\")\n",
    "else:\n",
    "    # input matrices\n",
    "    matrix1 = np.zeros((rows1, cols1))\n",
    "    matrix2 = np.zeros((rows2, cols2))\n",
    "\n",
    "    print(\"Enter elements of the first matrix:\")\n",
    "    for i in range(rows1):\n",
    "        for j in range(cols1):\n",
    "            matrix1[i][j] = float(input(f\"Enter element [{i}][{j}]: \"))\n",
    "\n",
    "    print(\"Enter elements of the second matrix:\")\n",
    "    for i in range(rows2):\n",
    "        for j in range(cols2):\n",
    "            matrix2[i][j] = float(input(f\"Enter element [{i}][{j}]: \"))\n",
    "\n",
    "    # Perform matrix multiplication\n",
    "    result_matrix = np.zeros((rows1, cols2))\n",
    "    for i in range(rows1):\n",
    "        for j in range(cols2):\n",
    "            for k in range(cols1):\n",
    "                result_matrix[i][j] += matrix1[i][k] * matrix2[k][j]\n",
    "\n",
    "    print(\"Matrix Multiplication Result:\")\n",
    "    print(result_matrix)"
   ]
  },
  {
   "cell_type": "code",
   "execution_count": null,
   "id": "f83ce33e-a3a6-45c1-9a68-bf5532d955a4",
   "metadata": {},
   "outputs": [],
   "source": []
  },
  {
   "cell_type": "markdown",
   "id": "58fc1644-d1f7-4e16-b228-8c1c98890fdb",
   "metadata": {},
   "source": [
    "# 35. Create a program that simulates a basic text-based tic-tac-toe game against the computer."
   ]
  },
  {
   "cell_type": "code",
   "execution_count": null,
   "id": "f2439112-20bd-44b2-95fe-d8de15d5da05",
   "metadata": {},
   "outputs": [],
   "source": [
    "# Ans: 35\n",
    "\n",
    "import random\n",
    "\n",
    "# initialize the tic-tac-toe board\n",
    "board = [\" \" for _ in range(9)]\n",
    "\n",
    "# function to display the tic-tac-toe board\n",
    "def display_board():\n",
    "    print(f\"{board[0]} | {board[1]} | {board[2]}\")\n",
    "    print(\"-\" * 9)\n",
    "    print(f\"{board[3]} | {board[4]} | {board[5]}\")\n",
    "    print(\"-\" * 9)\n",
    "    print(f\"{board[6]} | {board[7]} | {board[8]}\")\n",
    "\n",
    "# function to check for a win\n",
    "def check_win(player):\n",
    "    # Check rows, columns, and diagonals\n",
    "    winning_combinations = [\n",
    "        [0, 1, 2], [3, 4, 5], [6, 7, 8],  # Rows\n",
    "        [0, 3, 6], [1, 4, 7], [2, 5, 8],  # Columns\n",
    "        [0, 4, 8], [2, 4, 6]              # Diagonals\n",
    "    ]\n",
    "    for combination in winning_combinations:\n",
    "        if all(board[i] == player for i in combination):\n",
    "            return True\n",
    "    return False\n",
    "\n",
    "#function for the computer's move (random)\n",
    "def computer_move():\n",
    "    empty_cells = [i for i, cell in enumerate(board) if cell == \" \"]\n",
    "    return random.choice(empty_cells)\n",
    "\n",
    "# main game loop\n",
    "player_symbol = \"X\"\n",
    "computer_symbol = \"O\"\n",
    "current_player = player_symbol\n",
    "\n",
    "while True:\n",
    "    display_board()\n",
    "\n",
    "    if current_player == player_symbol:\n",
    "        move = int(input(\"Enter your move (1-9): \")) - 1\n",
    "\n",
    "        if move < 0 or move >= 9 or board[move] != \" \":\n",
    "            print(\"Invalid move. Try again.\")\n",
    "            continue\n",
    "    else:\n",
    "        move = computer_move()\n",
    "\n",
    "    board[move] = current_player\n",
    "\n",
    "    if check_win(current_player):\n",
    "        display_board()\n",
    "        print(f\"{current_player} wins!\")\n",
    "        break\n",
    "\n",
    "    if \" \" not in board:\n",
    "        display_board()\n",
    "        print(\"It's a draw!\")\n",
    "        break\n",
    "\n",
    "    current_player = player_symbol if current_player == computer_symbol else computer_symbol"
   ]
  },
  {
   "cell_type": "code",
   "execution_count": null,
   "id": "796a5a88-c40f-4619-ae74-6b2cd6bfd671",
   "metadata": {},
   "outputs": [],
   "source": []
  },
  {
   "cell_type": "markdown",
   "id": "dc9e3fc0-c5c5-459f-baa4-383b997fcb3d",
   "metadata": {},
   "source": [
    "# 36. Write a program that generates Fibonacci numbers up to a specified term using iterative methods."
   ]
  },
  {
   "cell_type": "code",
   "execution_count": null,
   "id": "dca968e1-ff41-4cea-ad92-9edc467e9b4a",
   "metadata": {},
   "outputs": [],
   "source": [
    "# Ans: 36 \n",
    "\n",
    "# generate Fibonacci numbers up to a specified term using iterative methods\n",
    "n = int(input(\"Enter the number of Fibonacci terms to generate: \"))\n",
    "\n",
    "fibonacci_sequence = [0, 1]\n",
    "while len(fibonacci_sequence) < n:\n",
    "    next_term = fibonacci_sequence[-1] + fibonacci_sequence[-2]\n",
    "    fibonacci_sequence.append(next_term)\n",
    "\n",
    "print(\"Fibonacci Sequence:\")\n",
    "print(fibonacci_sequence)"
   ]
  },
  {
   "cell_type": "code",
   "execution_count": null,
   "id": "8facd89f-02db-40c5-a6a5-11ad49df0619",
   "metadata": {},
   "outputs": [],
   "source": []
  },
  {
   "cell_type": "markdown",
   "id": "8f6e7e7e-9917-4e44-a28c-78740597a876",
   "metadata": {},
   "source": [
    "# 37. Develop a program that calculates the nth term of the Fibonacci sequence using memoization."
   ]
  },
  {
   "cell_type": "code",
   "execution_count": null,
   "id": "14d40f34-2ec2-4918-85d9-c986bad0ea1e",
   "metadata": {},
   "outputs": [],
   "source": [
    "# Ans: 37\n",
    "\n",
    "# calculate the nth term of the Fibonacci sequence using memoization\n",
    "def fibonacci(n, memo={}):\n",
    "    if n in memo:\n",
    "        return memo[n]\n",
    "    if n <= 1:\n",
    "        return n\n",
    "    memo[n] = fibonacci(n - 1, memo) + fibonacci(n - 2, memo)\n",
    "    return memo[n]\n",
    "\n",
    "n = int(input(\"Enter the term of the Fibonacci sequence to calculate: \"))\n",
    "result = fibonacci(n)\n",
    "print(f\"The {n}th Fibonacci term is {result}\")"
   ]
  },
  {
   "cell_type": "code",
   "execution_count": null,
   "id": "78fcacf6-6dec-4995-8e16-aea0521ec2b0",
   "metadata": {},
   "outputs": [],
   "source": []
  },
  {
   "cell_type": "markdown",
   "id": "1078b770-d8ed-4041-9bd1-13b37f89d92a",
   "metadata": {},
   "source": [
    "# 38. Create a program that generates a calendar for a given month and year using conditional statements."
   ]
  },
  {
   "cell_type": "code",
   "execution_count": null,
   "id": "51114ee6-de51-48cb-817e-95f6b61d235f",
   "metadata": {},
   "outputs": [],
   "source": [
    "# Ans: 38 \n",
    "\n",
    "import calendar\n",
    "\n",
    "# get user input for the month and year\n",
    "year = int(input(\"Enter the year (e.g., 2023): \"))\n",
    "month = int(input(\"Enter the month (1-12): \"))\n",
    "\n",
    "# create a calendar object\n",
    "cal = calendar.month(year, month)\n",
    "\n",
    "# display the calendar\n",
    "print(f\"Calendar for {calendar.month_name[month]} {year}:\\n\")\n",
    "print(cal)"
   ]
  },
  {
   "cell_type": "code",
   "execution_count": null,
   "id": "ff6a8c10-185a-40d8-82fa-4e1de54cdc00",
   "metadata": {},
   "outputs": [],
   "source": []
  },
  {
   "cell_type": "markdown",
   "id": "ceca1d01-fa03-4775-a809-314ca7f84538",
   "metadata": {},
   "source": [
    "# 40. Write a program that generates the prime factors of a given number using trial division."
   ]
  },
  {
   "cell_type": "code",
   "execution_count": null,
   "id": "0dfdb593-1ccb-435b-8d83-c13b534ad4e2",
   "metadata": {},
   "outputs": [],
   "source": [
    "# Ans: 40 \n",
    "\n",
    "# Generate the prime factors of a given number using trial division\n",
    "def prime_factors(n):\n",
    "    factors = []\n",
    "    divisor = 2\n",
    "    while n > 1:\n",
    "        while n % divisor == 0:\n",
    "            factors.append(divisor)\n",
    "            n //= divisor\n",
    "        divisor += 1\n",
    "    return factors\n",
    "\n",
    "number = int(input(\"Enter a number to find its prime factors: \"))\n",
    "factors = prime_factors(number)\n",
    "print(f\"Prime factors of {number}: {factors}\")"
   ]
  },
  {
   "cell_type": "code",
   "execution_count": null,
   "id": "0d2e8485-5b97-4a99-8eaf-ca9d21b7c9bc",
   "metadata": {},
   "outputs": [],
   "source": []
  },
  {
   "cell_type": "code",
   "execution_count": null,
   "id": "ba6989fd-aca5-4a9e-9758-fb9efe1631de",
   "metadata": {},
   "outputs": [],
   "source": []
  },
  {
   "cell_type": "code",
   "execution_count": null,
   "id": "2d873802-a1c0-40bc-92a9-40b327ec001c",
   "metadata": {},
   "outputs": [],
   "source": []
  }
 ],
 "metadata": {
  "kernelspec": {
   "display_name": "Python 3 (ipykernel)",
   "language": "python",
   "name": "python3"
  },
  "language_info": {
   "codemirror_mode": {
    "name": "ipython",
    "version": 3
   },
   "file_extension": ".py",
   "mimetype": "text/x-python",
   "name": "python",
   "nbconvert_exporter": "python",
   "pygments_lexer": "ipython3",
   "version": "3.10.8"
  }
 },
 "nbformat": 4,
 "nbformat_minor": 5
}
